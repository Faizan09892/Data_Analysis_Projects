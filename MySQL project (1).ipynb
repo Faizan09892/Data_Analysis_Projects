{
 "cells": [
  {
   "cell_type": "markdown",
   "metadata": {
    "id": "OQp1jEId4-Zr"
   },
   "source": [
    "![imdb.jpg](attachment:imdb.jpg)"
   ]
  },
  {
   "cell_type": "markdown",
   "metadata": {
    "id": "Cy7nxZSG4-Zw"
   },
   "source": [
    "###  Analysis on IMDB useful libraries with sql\n",
    "\n",
    "> ### Explanation\n",
    "\n",
    "**SQLite :** - SQLite database is integrated with the application that accesses the database. The applications interact with the SQLite database read and write directly from the database files stored on disk.\n",
    "         \n",
    "- SQLite does NOT require a server to run.\n",
    "\n",
    "\n",
    "- Refer at https://www.sqlite.org/index.html\n",
    "    \n",
    "    \n",
    "    \n",
    "> ![sqlite_image.jpg](attachment:sqlite_image.jpg)\n",
    "\n",
    "\n",
    "**PANDAS :**\n",
    "    - Pandas provide high performance, fast, easy to use data structures and data analysis tools for manipulating numeric data and time series. Pandas is built on the numpy library and written in languages like Python, Cython, and C. In pandas, we can import data from various file formats like JSON, SQL, Microsoft Excel, etc.\n",
    "    \n",
    "**NUMPY:**\n",
    "       - Numpy is an Python library,It is used for scientific computing in python.It contains a collection of tools and techniques that can be used to solve on computers with mathematical model of problems.\n",
    "       - High performance and multi-dimensional areay objects.\n",
    "       - High level mathematical functions.\n",
    "       - matrices\n",
    "       \n",
    "       \n",
    " ### Data Visualizations\n",
    " - Data Visualization is the graphic representation of data. It converts a huge dataset into small graphs, thus aids in data analysis and predictions\n",
    "       \n",
    "**MATPLOTLIB**\n",
    "- It is a Python library used for plotting graphs with the help of other libraries like Numpy and Pandas. It is a powerful tool for visualizing data in Python. It is used for creating statical interferences and plotting 2D graphs of arrays\n",
    "\n",
    "**SEABORN:**\n",
    "- It is also a Python library used for plotting graphs with the help of Matplotlib, Pandas, and Numpy. It is built on the roof of Matplotlib and is considered as a superset of the Matplotlib library. It helps in visualizing univariate and bivariate data"
   ]
  },
  {
   "cell_type": "code",
   "execution_count": 4,
   "metadata": {
    "execution": {
     "iopub.execute_input": "2021-05-20T05:49:45.481827Z",
     "iopub.status.busy": "2021-05-20T05:49:45.481299Z",
     "iopub.status.idle": "2021-05-20T05:49:45.487748Z",
     "shell.execute_reply": "2021-05-20T05:49:45.486277Z",
     "shell.execute_reply.started": "2021-05-20T05:49:45.481784Z"
    },
    "id": "D5yhVwkQ4-Z1"
   },
   "outputs": [],
   "source": [
    "# Import Pandas and NumPy\n",
    "\n",
    "import numpy as np\n",
    "import pandas as pd\n",
    "\n",
    "# Import Libraries for plotting    # Visualizations\n",
    "import matplotlib.pyplot as plt\n",
    "import seaborn as sns\n",
    "\n",
    "\n",
    "\n",
    "#pip install db-sqlite3\n",
    "#SQLite in general is a server-less database that you can use within almost all programming languages including Python.\n",
    "import sqlite3\n",
    "\n",
    "\n",
    "# Supress Warnings\n",
    "\n"
   ]
  },
  {
   "cell_type": "markdown",
   "metadata": {
    "id": "jScVvbIQ4-Z3"
   },
   "source": []
  },
  {
   "cell_type": "markdown",
   "metadata": {
    "id": "4Qpt4Ozd4-Z4"
   },
   "source": [
    "####   We import the sqlite3 module and then create a connection object which will connect us to the database and will let us execute the SQL statements.\n",
    "> - sqlite3.connect(Database)\n",
    "> - **cursor()** - we can use the cursor object to call the execute() method to execute any SQL queries.\n",
    "\n",
    "\n",
    "#### STEPS\n",
    "> To query data in an SQLite database from Python, you use these steps:\n",
    "\n",
    "- First, establish a connection to the SQLite database by creating a Connection object.\n",
    "- Next, create a Cursor object using the cursor method of the Connection object.\n",
    "- Then, execute a  SELECT statement.\n",
    "- After that, call the fetchall() method of the cursor object to fetch the data.\n",
    "- Finally, loop the cursor and process each row individually.\n"
   ]
  },
  {
   "cell_type": "code",
   "execution_count": 5,
   "metadata": {
    "execution": {
     "iopub.execute_input": "2021-05-20T05:50:27.108304Z",
     "iopub.status.busy": "2021-05-20T05:50:27.107614Z",
     "iopub.status.idle": "2021-05-20T05:50:27.125870Z",
     "shell.execute_reply": "2021-05-20T05:50:27.124859Z",
     "shell.execute_reply.started": "2021-05-20T05:50:27.108247Z"
    },
    "id": "3rO18udG4-Z4"
   },
   "outputs": [],
   "source": [
    "mycon = sqlite3.connect('D:\\movies.sqlite (1)/movies.sqlite')\n",
    "cur = mycon.cursor()"
   ]
  },
  {
   "cell_type": "markdown",
   "metadata": {
    "id": "r5Q70yC84-Z5"
   },
   "source": [
    "## QUESTIONS"
   ]
  },
  {
   "cell_type": "markdown",
   "metadata": {
    "id": "zx8eqbPY4-Z6"
   },
   "source": [
    "#### **Question 1:** Can you get all data about movies?"
   ]
  },
  {
   "cell_type": "code",
   "execution_count": 6,
   "metadata": {
    "colab": {
     "base_uri": "https://localhost:8080/",
     "height": 589
    },
    "execution": {
     "iopub.execute_input": "2021-05-20T06:12:49.096048Z",
     "iopub.status.busy": "2021-05-20T06:12:49.095688Z",
     "iopub.status.idle": "2021-05-20T06:12:49.797709Z",
     "shell.execute_reply": "2021-05-20T06:12:49.796360Z",
     "shell.execute_reply.started": "2021-05-20T06:12:49.096016Z"
    },
    "id": "jLV0A1Yd4-Z6",
    "jupyter": {
     "outputs_hidden": true
    },
    "outputId": "6932ab19-8f7a-4049-9ee8-a3b41bb6a25e"
   },
   "outputs": [
    {
     "name": "stdout",
     "output_type": "stream",
     "text": [
      "Shape of Movies data : (4773, 13)\n",
      "\n",
      "\n",
      "\n",
      "\n"
     ]
    },
    {
     "data": {
      "text/html": [
       "<div>\n",
       "<style scoped>\n",
       "    .dataframe tbody tr th:only-of-type {\n",
       "        vertical-align: middle;\n",
       "    }\n",
       "\n",
       "    .dataframe tbody tr th {\n",
       "        vertical-align: top;\n",
       "    }\n",
       "\n",
       "    .dataframe thead th {\n",
       "        text-align: right;\n",
       "    }\n",
       "</style>\n",
       "<table border=\"1\" class=\"dataframe\">\n",
       "  <thead>\n",
       "    <tr style=\"text-align: right;\">\n",
       "      <th></th>\n",
       "      <th>id</th>\n",
       "      <th>original_title</th>\n",
       "      <th>budget</th>\n",
       "      <th>popularity</th>\n",
       "      <th>release_date</th>\n",
       "      <th>revenue</th>\n",
       "      <th>title</th>\n",
       "      <th>vote_average</th>\n",
       "      <th>vote_count</th>\n",
       "      <th>overview</th>\n",
       "      <th>tagline</th>\n",
       "      <th>uid</th>\n",
       "      <th>director_id</th>\n",
       "    </tr>\n",
       "  </thead>\n",
       "  <tbody>\n",
       "    <tr>\n",
       "      <th>0</th>\n",
       "      <td>43597</td>\n",
       "      <td>Avatar</td>\n",
       "      <td>237000000</td>\n",
       "      <td>150</td>\n",
       "      <td>2009-12-10</td>\n",
       "      <td>2787965087</td>\n",
       "      <td>Avatar</td>\n",
       "      <td>7.2</td>\n",
       "      <td>11800</td>\n",
       "      <td>In the 22nd century, a paraplegic Marine is di...</td>\n",
       "      <td>Enter the World of Pandora.</td>\n",
       "      <td>19995</td>\n",
       "      <td>4762</td>\n",
       "    </tr>\n",
       "    <tr>\n",
       "      <th>1</th>\n",
       "      <td>43598</td>\n",
       "      <td>Pirates of the Caribbean: At World's End</td>\n",
       "      <td>300000000</td>\n",
       "      <td>139</td>\n",
       "      <td>2007-05-19</td>\n",
       "      <td>961000000</td>\n",
       "      <td>Pirates of the Caribbean: At World's End</td>\n",
       "      <td>6.9</td>\n",
       "      <td>4500</td>\n",
       "      <td>Captain Barbossa, long believed to be dead, ha...</td>\n",
       "      <td>At the end of the world, the adventure begins.</td>\n",
       "      <td>285</td>\n",
       "      <td>4763</td>\n",
       "    </tr>\n",
       "    <tr>\n",
       "      <th>2</th>\n",
       "      <td>43599</td>\n",
       "      <td>Spectre</td>\n",
       "      <td>245000000</td>\n",
       "      <td>107</td>\n",
       "      <td>2015-10-26</td>\n",
       "      <td>880674609</td>\n",
       "      <td>Spectre</td>\n",
       "      <td>6.3</td>\n",
       "      <td>4466</td>\n",
       "      <td>A cryptic message from Bond’s past sends him o...</td>\n",
       "      <td>A Plan No One Escapes</td>\n",
       "      <td>206647</td>\n",
       "      <td>4764</td>\n",
       "    </tr>\n",
       "  </tbody>\n",
       "</table>\n",
       "</div>"
      ],
      "text/plain": [
       "      id                            original_title     budget  popularity  \\\n",
       "0  43597                                    Avatar  237000000         150   \n",
       "1  43598  Pirates of the Caribbean: At World's End  300000000         139   \n",
       "2  43599                                   Spectre  245000000         107   \n",
       "\n",
       "  release_date     revenue                                     title  \\\n",
       "0   2009-12-10  2787965087                                    Avatar   \n",
       "1   2007-05-19   961000000  Pirates of the Caribbean: At World's End   \n",
       "2   2015-10-26   880674609                                   Spectre   \n",
       "\n",
       "   vote_average  vote_count  \\\n",
       "0           7.2       11800   \n",
       "1           6.9        4500   \n",
       "2           6.3        4466   \n",
       "\n",
       "                                            overview  \\\n",
       "0  In the 22nd century, a paraplegic Marine is di...   \n",
       "1  Captain Barbossa, long believed to be dead, ha...   \n",
       "2  A cryptic message from Bond’s past sends him o...   \n",
       "\n",
       "                                          tagline     uid  director_id  \n",
       "0                     Enter the World of Pandora.   19995         4762  \n",
       "1  At the end of the world, the adventure begins.     285         4763  \n",
       "2                           A Plan No One Escapes  206647         4764  "
      ]
     },
     "execution_count": 6,
     "metadata": {},
     "output_type": "execute_result"
    }
   ],
   "source": [
    "cur.execute('SELECT * FROM movies')\n",
    "#use the cursor object to call the execute() method to execute any SQL queries.\n",
    "movies = cur.fetchall()\n",
    "\n",
    "# #movies -> if u print movies , all the data shown in list manner, can't understanadble\n",
    "\n",
    "# #Note - fetchall() --> fetch all rows for the current query, if no rows avaliable then,it returns an empty list.\n",
    "\n",
    "movies = pd.DataFrame(movies, columns = ['id', 'original_title', 'budget', 'popularity', 'release_date', 'revenue', 'title', 'vote_average', 'vote_count', 'overview', 'tagline', 'uid', 'director_id'])\n",
    "# #Creating a dataframe, A dataframe contains rows and columns , It is a Two-dimensional, size-mutable, potentially heterogeneous tabular data.\n",
    "\n",
    "\n",
    "\n",
    "print('Shape of Movies data :',movies.shape)\n",
    "print('\\n\\n\\n')\n",
    "movies.head(3)\n",
    "# #Displays first 3 rows in the table\n"
   ]
  },
  {
   "cell_type": "code",
   "execution_count": 7,
   "metadata": {
    "colab": {
     "base_uri": "https://localhost:8080/",
     "height": 1000
    },
    "id": "458SBlmiDb-L",
    "outputId": "0c4f3c42-10e7-46e0-a204-6d906630e9e9"
   },
   "outputs": [
    {
     "data": {
      "text/html": [
       "<div>\n",
       "<style scoped>\n",
       "    .dataframe tbody tr th:only-of-type {\n",
       "        vertical-align: middle;\n",
       "    }\n",
       "\n",
       "    .dataframe tbody tr th {\n",
       "        vertical-align: top;\n",
       "    }\n",
       "\n",
       "    .dataframe thead th {\n",
       "        text-align: right;\n",
       "    }\n",
       "</style>\n",
       "<table border=\"1\" class=\"dataframe\">\n",
       "  <thead>\n",
       "    <tr style=\"text-align: right;\">\n",
       "      <th></th>\n",
       "      <th>id</th>\n",
       "      <th>original_title</th>\n",
       "      <th>budget</th>\n",
       "      <th>popularity</th>\n",
       "      <th>release_date</th>\n",
       "      <th>revenue</th>\n",
       "      <th>title</th>\n",
       "      <th>vote_average</th>\n",
       "      <th>vote_count</th>\n",
       "      <th>overview</th>\n",
       "      <th>tagline</th>\n",
       "      <th>uid</th>\n",
       "      <th>director_id</th>\n",
       "    </tr>\n",
       "  </thead>\n",
       "  <tbody>\n",
       "    <tr>\n",
       "      <th>0</th>\n",
       "      <td>43597</td>\n",
       "      <td>Avatar</td>\n",
       "      <td>237000000</td>\n",
       "      <td>150</td>\n",
       "      <td>2009-12-10</td>\n",
       "      <td>2787965087</td>\n",
       "      <td>Avatar</td>\n",
       "      <td>7.2</td>\n",
       "      <td>11800</td>\n",
       "      <td>In the 22nd century, a paraplegic Marine is di...</td>\n",
       "      <td>Enter the World of Pandora.</td>\n",
       "      <td>19995</td>\n",
       "      <td>4762</td>\n",
       "    </tr>\n",
       "    <tr>\n",
       "      <th>1</th>\n",
       "      <td>43598</td>\n",
       "      <td>Pirates of the Caribbean: At World's End</td>\n",
       "      <td>300000000</td>\n",
       "      <td>139</td>\n",
       "      <td>2007-05-19</td>\n",
       "      <td>961000000</td>\n",
       "      <td>Pirates of the Caribbean: At World's End</td>\n",
       "      <td>6.9</td>\n",
       "      <td>4500</td>\n",
       "      <td>Captain Barbossa, long believed to be dead, ha...</td>\n",
       "      <td>At the end of the world, the adventure begins.</td>\n",
       "      <td>285</td>\n",
       "      <td>4763</td>\n",
       "    </tr>\n",
       "    <tr>\n",
       "      <th>2</th>\n",
       "      <td>43599</td>\n",
       "      <td>Spectre</td>\n",
       "      <td>245000000</td>\n",
       "      <td>107</td>\n",
       "      <td>2015-10-26</td>\n",
       "      <td>880674609</td>\n",
       "      <td>Spectre</td>\n",
       "      <td>6.3</td>\n",
       "      <td>4466</td>\n",
       "      <td>A cryptic message from Bond’s past sends him o...</td>\n",
       "      <td>A Plan No One Escapes</td>\n",
       "      <td>206647</td>\n",
       "      <td>4764</td>\n",
       "    </tr>\n",
       "    <tr>\n",
       "      <th>3</th>\n",
       "      <td>43600</td>\n",
       "      <td>The Dark Knight Rises</td>\n",
       "      <td>250000000</td>\n",
       "      <td>112</td>\n",
       "      <td>2012-07-16</td>\n",
       "      <td>1084939099</td>\n",
       "      <td>The Dark Knight Rises</td>\n",
       "      <td>7.6</td>\n",
       "      <td>9106</td>\n",
       "      <td>Following the death of District Attorney Harve...</td>\n",
       "      <td>The Legend Ends</td>\n",
       "      <td>49026</td>\n",
       "      <td>4765</td>\n",
       "    </tr>\n",
       "    <tr>\n",
       "      <th>4</th>\n",
       "      <td>43601</td>\n",
       "      <td>John Carter</td>\n",
       "      <td>260000000</td>\n",
       "      <td>43</td>\n",
       "      <td>2012-03-07</td>\n",
       "      <td>284139100</td>\n",
       "      <td>John Carter</td>\n",
       "      <td>6.1</td>\n",
       "      <td>2124</td>\n",
       "      <td>John Carter is a war-weary, former military ca...</td>\n",
       "      <td>Lost in our world, found in another.</td>\n",
       "      <td>49529</td>\n",
       "      <td>4766</td>\n",
       "    </tr>\n",
       "    <tr>\n",
       "      <th>...</th>\n",
       "      <td>...</td>\n",
       "      <td>...</td>\n",
       "      <td>...</td>\n",
       "      <td>...</td>\n",
       "      <td>...</td>\n",
       "      <td>...</td>\n",
       "      <td>...</td>\n",
       "      <td>...</td>\n",
       "      <td>...</td>\n",
       "      <td>...</td>\n",
       "      <td>...</td>\n",
       "      <td>...</td>\n",
       "      <td>...</td>\n",
       "    </tr>\n",
       "    <tr>\n",
       "      <th>4768</th>\n",
       "      <td>48395</td>\n",
       "      <td>El Mariachi</td>\n",
       "      <td>220000</td>\n",
       "      <td>14</td>\n",
       "      <td>1992-09-04</td>\n",
       "      <td>2040920</td>\n",
       "      <td>El Mariachi</td>\n",
       "      <td>6.6</td>\n",
       "      <td>238</td>\n",
       "      <td>El Mariachi just wants to play his guitar and ...</td>\n",
       "      <td>He didn't come looking for trouble, but troubl...</td>\n",
       "      <td>9367</td>\n",
       "      <td>5097</td>\n",
       "    </tr>\n",
       "    <tr>\n",
       "      <th>4769</th>\n",
       "      <td>48396</td>\n",
       "      <td>Newlyweds</td>\n",
       "      <td>9000</td>\n",
       "      <td>0</td>\n",
       "      <td>2011-12-26</td>\n",
       "      <td>0</td>\n",
       "      <td>Newlyweds</td>\n",
       "      <td>5.9</td>\n",
       "      <td>5</td>\n",
       "      <td>A newlywed couple's honeymoon is upended by th...</td>\n",
       "      <td>A newlywed couple's honeymoon is upended by th...</td>\n",
       "      <td>72766</td>\n",
       "      <td>6485</td>\n",
       "    </tr>\n",
       "    <tr>\n",
       "      <th>4770</th>\n",
       "      <td>48397</td>\n",
       "      <td>Signed, Sealed, Delivered</td>\n",
       "      <td>0</td>\n",
       "      <td>1</td>\n",
       "      <td>2013-10-13</td>\n",
       "      <td>0</td>\n",
       "      <td>Signed, Sealed, Delivered</td>\n",
       "      <td>7.0</td>\n",
       "      <td>6</td>\n",
       "      <td>\"Signed, Sealed, Delivered\" introduces a dedic...</td>\n",
       "      <td>None</td>\n",
       "      <td>231617</td>\n",
       "      <td>7108</td>\n",
       "    </tr>\n",
       "    <tr>\n",
       "      <th>4771</th>\n",
       "      <td>48398</td>\n",
       "      <td>Shanghai Calling</td>\n",
       "      <td>0</td>\n",
       "      <td>0</td>\n",
       "      <td>2012-05-03</td>\n",
       "      <td>0</td>\n",
       "      <td>Shanghai Calling</td>\n",
       "      <td>5.7</td>\n",
       "      <td>7</td>\n",
       "      <td>When ambitious New York attorney Sam is sent t...</td>\n",
       "      <td>A New Yorker in Shanghai</td>\n",
       "      <td>126186</td>\n",
       "      <td>7109</td>\n",
       "    </tr>\n",
       "    <tr>\n",
       "      <th>4772</th>\n",
       "      <td>48399</td>\n",
       "      <td>My Date with Drew</td>\n",
       "      <td>0</td>\n",
       "      <td>1</td>\n",
       "      <td>2005-08-05</td>\n",
       "      <td>0</td>\n",
       "      <td>My Date with Drew</td>\n",
       "      <td>6.3</td>\n",
       "      <td>16</td>\n",
       "      <td>Ever since the second grade when he first saw ...</td>\n",
       "      <td>None</td>\n",
       "      <td>25975</td>\n",
       "      <td>7110</td>\n",
       "    </tr>\n",
       "  </tbody>\n",
       "</table>\n",
       "<p>4773 rows × 13 columns</p>\n",
       "</div>"
      ],
      "text/plain": [
       "         id                            original_title     budget  popularity  \\\n",
       "0     43597                                    Avatar  237000000         150   \n",
       "1     43598  Pirates of the Caribbean: At World's End  300000000         139   \n",
       "2     43599                                   Spectre  245000000         107   \n",
       "3     43600                     The Dark Knight Rises  250000000         112   \n",
       "4     43601                               John Carter  260000000          43   \n",
       "...     ...                                       ...        ...         ...   \n",
       "4768  48395                               El Mariachi     220000          14   \n",
       "4769  48396                                 Newlyweds       9000           0   \n",
       "4770  48397                 Signed, Sealed, Delivered          0           1   \n",
       "4771  48398                          Shanghai Calling          0           0   \n",
       "4772  48399                         My Date with Drew          0           1   \n",
       "\n",
       "     release_date     revenue                                     title  \\\n",
       "0      2009-12-10  2787965087                                    Avatar   \n",
       "1      2007-05-19   961000000  Pirates of the Caribbean: At World's End   \n",
       "2      2015-10-26   880674609                                   Spectre   \n",
       "3      2012-07-16  1084939099                     The Dark Knight Rises   \n",
       "4      2012-03-07   284139100                               John Carter   \n",
       "...           ...         ...                                       ...   \n",
       "4768   1992-09-04     2040920                               El Mariachi   \n",
       "4769   2011-12-26           0                                 Newlyweds   \n",
       "4770   2013-10-13           0                 Signed, Sealed, Delivered   \n",
       "4771   2012-05-03           0                          Shanghai Calling   \n",
       "4772   2005-08-05           0                         My Date with Drew   \n",
       "\n",
       "      vote_average  vote_count  \\\n",
       "0              7.2       11800   \n",
       "1              6.9        4500   \n",
       "2              6.3        4466   \n",
       "3              7.6        9106   \n",
       "4              6.1        2124   \n",
       "...            ...         ...   \n",
       "4768           6.6         238   \n",
       "4769           5.9           5   \n",
       "4770           7.0           6   \n",
       "4771           5.7           7   \n",
       "4772           6.3          16   \n",
       "\n",
       "                                               overview  \\\n",
       "0     In the 22nd century, a paraplegic Marine is di...   \n",
       "1     Captain Barbossa, long believed to be dead, ha...   \n",
       "2     A cryptic message from Bond’s past sends him o...   \n",
       "3     Following the death of District Attorney Harve...   \n",
       "4     John Carter is a war-weary, former military ca...   \n",
       "...                                                 ...   \n",
       "4768  El Mariachi just wants to play his guitar and ...   \n",
       "4769  A newlywed couple's honeymoon is upended by th...   \n",
       "4770  \"Signed, Sealed, Delivered\" introduces a dedic...   \n",
       "4771  When ambitious New York attorney Sam is sent t...   \n",
       "4772  Ever since the second grade when he first saw ...   \n",
       "\n",
       "                                                tagline     uid  director_id  \n",
       "0                           Enter the World of Pandora.   19995         4762  \n",
       "1        At the end of the world, the adventure begins.     285         4763  \n",
       "2                                 A Plan No One Escapes  206647         4764  \n",
       "3                                       The Legend Ends   49026         4765  \n",
       "4                  Lost in our world, found in another.   49529         4766  \n",
       "...                                                 ...     ...          ...  \n",
       "4768  He didn't come looking for trouble, but troubl...    9367         5097  \n",
       "4769  A newlywed couple's honeymoon is upended by th...   72766         6485  \n",
       "4770                                               None  231617         7108  \n",
       "4771                           A New Yorker in Shanghai  126186         7109  \n",
       "4772                                               None   25975         7110  \n",
       "\n",
       "[4773 rows x 13 columns]"
      ]
     },
     "execution_count": 7,
     "metadata": {},
     "output_type": "execute_result"
    }
   ],
   "source": [
    "import pandas as pd\n",
    "movies_df = pd.read_sql('SELECT * FROM movies', mycon)\n",
    "movies_df"
   ]
  },
  {
   "cell_type": "code",
   "execution_count": null,
   "metadata": {
    "id": "AFfFf_FCDDmi"
   },
   "outputs": [],
   "source": [
    "\n"
   ]
  },
  {
   "cell_type": "code",
   "execution_count": 7,
   "metadata": {
    "colab": {
     "base_uri": "https://localhost:8080/"
    },
    "execution": {
     "iopub.execute_input": "2021-05-20T06:10:50.650714Z",
     "iopub.status.busy": "2021-05-20T06:10:50.650236Z",
     "iopub.status.idle": "2021-05-20T06:10:50.690734Z",
     "shell.execute_reply": "2021-05-20T06:10:50.689727Z",
     "shell.execute_reply.started": "2021-05-20T06:10:50.650673Z"
    },
    "id": "goLaza3u4-Z7",
    "jupyter": {
     "outputs_hidden": true
    },
    "outputId": "f27393c2-7fb3-4ea5-c2d8-216914f9151d"
   },
   "outputs": [
    {
     "name": "stdout",
     "output_type": "stream",
     "text": [
      "<class 'pandas.core.frame.DataFrame'>\n",
      "RangeIndex: 4773 entries, 0 to 4772\n",
      "Data columns (total 13 columns):\n",
      " #   Column          Non-Null Count  Dtype  \n",
      "---  ------          --------------  -----  \n",
      " 0   id              4773 non-null   int64  \n",
      " 1   original_title  4773 non-null   object \n",
      " 2   budget          4773 non-null   int64  \n",
      " 3   popularity      4773 non-null   int64  \n",
      " 4   release_date    4773 non-null   object \n",
      " 5   revenue         4773 non-null   int64  \n",
      " 6   title           4773 non-null   object \n",
      " 7   vote_average    4773 non-null   float64\n",
      " 8   vote_count      4773 non-null   int64  \n",
      " 9   overview        4770 non-null   object \n",
      " 10  tagline         3951 non-null   object \n",
      " 11  uid             4773 non-null   int64  \n",
      " 12  director_id     4773 non-null   int64  \n",
      "dtypes: float64(1), int64(7), object(5)\n",
      "memory usage: 484.9+ KB\n"
     ]
    }
   ],
   "source": [
    "\n",
    "movies.info()"
   ]
  },
  {
   "cell_type": "code",
   "execution_count": 8,
   "metadata": {
    "colab": {
     "base_uri": "https://localhost:8080/"
    },
    "id": "AftYpu0ND5P0",
    "outputId": "c41c90db-785d-4352-df91-e32e4fca23fa"
   },
   "outputs": [
    {
     "data": {
      "text/plain": [
       "id                  0\n",
       "original_title      0\n",
       "budget              0\n",
       "popularity          0\n",
       "release_date        0\n",
       "revenue             0\n",
       "title               0\n",
       "vote_average        0\n",
       "vote_count          0\n",
       "overview            3\n",
       "tagline           822\n",
       "uid                 0\n",
       "director_id         0\n",
       "dtype: int64"
      ]
     },
     "execution_count": 8,
     "metadata": {},
     "output_type": "execute_result"
    }
   ],
   "source": [
    "movies.isnull().sum()"
   ]
  },
  {
   "cell_type": "markdown",
   "metadata": {
    "id": "v3c9rX2a4-Z8"
   },
   "source": [
    "\n",
    "#### **Question 2:** How do you get all data about directors?"
   ]
  },
  {
   "cell_type": "code",
   "execution_count": 8,
   "metadata": {
    "colab": {
     "base_uri": "https://localhost:8080/",
     "height": 424
    },
    "id": "mKv_WQHaEBD5",
    "outputId": "e35e7216-ae40-4bc5-ff82-78fa95818091"
   },
   "outputs": [
    {
     "data": {
      "text/html": [
       "<div>\n",
       "<style scoped>\n",
       "    .dataframe tbody tr th:only-of-type {\n",
       "        vertical-align: middle;\n",
       "    }\n",
       "\n",
       "    .dataframe tbody tr th {\n",
       "        vertical-align: top;\n",
       "    }\n",
       "\n",
       "    .dataframe thead th {\n",
       "        text-align: right;\n",
       "    }\n",
       "</style>\n",
       "<table border=\"1\" class=\"dataframe\">\n",
       "  <thead>\n",
       "    <tr style=\"text-align: right;\">\n",
       "      <th></th>\n",
       "      <th>name</th>\n",
       "      <th>id</th>\n",
       "      <th>gender</th>\n",
       "      <th>uid</th>\n",
       "      <th>department</th>\n",
       "    </tr>\n",
       "  </thead>\n",
       "  <tbody>\n",
       "    <tr>\n",
       "      <th>0</th>\n",
       "      <td>James Cameron</td>\n",
       "      <td>4762</td>\n",
       "      <td>2</td>\n",
       "      <td>2710</td>\n",
       "      <td>Directing</td>\n",
       "    </tr>\n",
       "    <tr>\n",
       "      <th>1</th>\n",
       "      <td>Gore Verbinski</td>\n",
       "      <td>4763</td>\n",
       "      <td>2</td>\n",
       "      <td>1704</td>\n",
       "      <td>Directing</td>\n",
       "    </tr>\n",
       "    <tr>\n",
       "      <th>2</th>\n",
       "      <td>Sam Mendes</td>\n",
       "      <td>4764</td>\n",
       "      <td>2</td>\n",
       "      <td>39</td>\n",
       "      <td>Directing</td>\n",
       "    </tr>\n",
       "    <tr>\n",
       "      <th>3</th>\n",
       "      <td>Christopher Nolan</td>\n",
       "      <td>4765</td>\n",
       "      <td>2</td>\n",
       "      <td>525</td>\n",
       "      <td>Directing</td>\n",
       "    </tr>\n",
       "    <tr>\n",
       "      <th>4</th>\n",
       "      <td>Andrew Stanton</td>\n",
       "      <td>4766</td>\n",
       "      <td>2</td>\n",
       "      <td>7</td>\n",
       "      <td>Directing</td>\n",
       "    </tr>\n",
       "    <tr>\n",
       "      <th>...</th>\n",
       "      <td>...</td>\n",
       "      <td>...</td>\n",
       "      <td>...</td>\n",
       "      <td>...</td>\n",
       "      <td>...</td>\n",
       "    </tr>\n",
       "    <tr>\n",
       "      <th>2344</th>\n",
       "      <td>Shane Carruth</td>\n",
       "      <td>7106</td>\n",
       "      <td>2</td>\n",
       "      <td>76624</td>\n",
       "      <td>Directing</td>\n",
       "    </tr>\n",
       "    <tr>\n",
       "      <th>2345</th>\n",
       "      <td>Neill Dela Llana</td>\n",
       "      <td>7107</td>\n",
       "      <td>0</td>\n",
       "      <td>1174437</td>\n",
       "      <td>Directing</td>\n",
       "    </tr>\n",
       "    <tr>\n",
       "      <th>2346</th>\n",
       "      <td>Scott Smith</td>\n",
       "      <td>7108</td>\n",
       "      <td>0</td>\n",
       "      <td>1219158</td>\n",
       "      <td>Directing</td>\n",
       "    </tr>\n",
       "    <tr>\n",
       "      <th>2347</th>\n",
       "      <td>Daniel Hsia</td>\n",
       "      <td>7109</td>\n",
       "      <td>2</td>\n",
       "      <td>208138</td>\n",
       "      <td>Directing</td>\n",
       "    </tr>\n",
       "    <tr>\n",
       "      <th>2348</th>\n",
       "      <td>Brian Herzlinger</td>\n",
       "      <td>7110</td>\n",
       "      <td>2</td>\n",
       "      <td>85563</td>\n",
       "      <td>Directing</td>\n",
       "    </tr>\n",
       "  </tbody>\n",
       "</table>\n",
       "<p>2349 rows × 5 columns</p>\n",
       "</div>"
      ],
      "text/plain": [
       "                   name    id  gender      uid department\n",
       "0         James Cameron  4762       2     2710  Directing\n",
       "1        Gore Verbinski  4763       2     1704  Directing\n",
       "2            Sam Mendes  4764       2       39  Directing\n",
       "3     Christopher Nolan  4765       2      525  Directing\n",
       "4        Andrew Stanton  4766       2        7  Directing\n",
       "...                 ...   ...     ...      ...        ...\n",
       "2344      Shane Carruth  7106       2    76624  Directing\n",
       "2345   Neill Dela Llana  7107       0  1174437  Directing\n",
       "2346        Scott Smith  7108       0  1219158  Directing\n",
       "2347        Daniel Hsia  7109       2   208138  Directing\n",
       "2348   Brian Herzlinger  7110       2    85563  Directing\n",
       "\n",
       "[2349 rows x 5 columns]"
      ]
     },
     "execution_count": 8,
     "metadata": {},
     "output_type": "execute_result"
    }
   ],
   "source": [
    "query = 'SELECT * FROM directors'\n",
    "directors_df = pd.read_sql(query, mycon)\n",
    "directors_df"
   ]
  },
  {
   "cell_type": "code",
   "execution_count": null,
   "metadata": {
    "colab": {
     "base_uri": "https://localhost:8080/"
    },
    "execution": {
     "iopub.execute_input": "2021-05-20T06:16:52.339605Z",
     "iopub.status.busy": "2021-05-20T06:16:52.339231Z",
     "iopub.status.idle": "2021-05-20T06:16:52.358729Z",
     "shell.execute_reply": "2021-05-20T06:16:52.356942Z",
     "shell.execute_reply.started": "2021-05-20T06:16:52.339574Z"
    },
    "id": "X003TVDC4-Z8",
    "jupyter": {
     "outputs_hidden": true
    },
    "outputId": "2ad653c1-d1fc-405d-e7ff-afbc40fc96da"
   },
   "outputs": [],
   "source": []
  },
  {
   "cell_type": "markdown",
   "metadata": {
    "id": "E9byWjY94-Z8"
   },
   "source": [
    "#### **Question 3:** Check how many movies are present in iMDB."
   ]
  },
  {
   "cell_type": "code",
   "execution_count": 9,
   "metadata": {
    "colab": {
     "base_uri": "https://localhost:8080/"
    },
    "execution": {
     "iopub.execute_input": "2021-05-20T06:43:23.832443Z",
     "iopub.status.busy": "2021-05-20T06:43:23.832035Z",
     "iopub.status.idle": "2021-05-20T06:43:24.387383Z",
     "shell.execute_reply": "2021-05-20T06:43:24.386397Z",
     "shell.execute_reply.started": "2021-05-20T06:43:23.832411Z"
    },
    "id": "0rSEELYe4-Z8",
    "outputId": "efe925da-a7fc-4fb3-8923-57a5ec3e7fad"
   },
   "outputs": [
    {
     "name": "stdout",
     "output_type": "stream",
     "text": [
      "the number of movies is present in IMDB is  : (4773,)\n"
     ]
    }
   ],
   "source": [
    "cur.execute('SELECT COUNT (id) from movies;')\n",
    "#use the cursor object to call the execute() method to execute any SQL queries.\n",
    "count = cur.fetchall()\n",
    "print(\"the number of movies is present in IMDB is  :\",count[0])\n",
    "#Note - fetchall() --> fetch all rows for the current query, if no rows avaliable then,it returns an empty list.\n",
    "\n",
    "\n"
   ]
  },
  {
   "cell_type": "code",
   "execution_count": 11,
   "metadata": {
    "id": "HyjG5fA-Hc_E"
   },
   "outputs": [],
   "source": [
    "##ASSIGNMENT\n",
    "\n",
    "# dataframes to be used for pandas - movies_df, directors_df\n",
    "# for sql table names are movies and directors"
   ]
  },
  {
   "cell_type": "markdown",
   "metadata": {
    "id": "jvfPNpPp4-Z9"
   },
   "source": [
    "#### **Question 4:** Find these 3 directors: James Cameron ; Luc Besson ; John Woo\n"
   ]
  },
  {
   "cell_type": "code",
   "execution_count": 10,
   "metadata": {
    "id": "8fztG2yQChq3"
   },
   "outputs": [
    {
     "data": {
      "text/html": [
       "<div>\n",
       "<style scoped>\n",
       "    .dataframe tbody tr th:only-of-type {\n",
       "        vertical-align: middle;\n",
       "    }\n",
       "\n",
       "    .dataframe tbody tr th {\n",
       "        vertical-align: top;\n",
       "    }\n",
       "\n",
       "    .dataframe thead th {\n",
       "        text-align: right;\n",
       "    }\n",
       "</style>\n",
       "<table border=\"1\" class=\"dataframe\">\n",
       "  <thead>\n",
       "    <tr style=\"text-align: right;\">\n",
       "      <th></th>\n",
       "      <th>name</th>\n",
       "      <th>id</th>\n",
       "      <th>gender</th>\n",
       "      <th>uid</th>\n",
       "      <th>department</th>\n",
       "    </tr>\n",
       "  </thead>\n",
       "  <tbody>\n",
       "    <tr>\n",
       "      <th>0</th>\n",
       "      <td>James Cameron</td>\n",
       "      <td>4762</td>\n",
       "      <td>2</td>\n",
       "      <td>2710</td>\n",
       "      <td>Directing</td>\n",
       "    </tr>\n",
       "    <tr>\n",
       "      <th>1</th>\n",
       "      <td>John Woo</td>\n",
       "      <td>4893</td>\n",
       "      <td>2</td>\n",
       "      <td>11401</td>\n",
       "      <td>Directing</td>\n",
       "    </tr>\n",
       "    <tr>\n",
       "      <th>2</th>\n",
       "      <td>Luc Besson</td>\n",
       "      <td>4949</td>\n",
       "      <td>2</td>\n",
       "      <td>59</td>\n",
       "      <td>Directing</td>\n",
       "    </tr>\n",
       "  </tbody>\n",
       "</table>\n",
       "</div>"
      ],
      "text/plain": [
       "            name    id  gender    uid department\n",
       "0  James Cameron  4762       2   2710  Directing\n",
       "1       John Woo  4893       2  11401  Directing\n",
       "2     Luc Besson  4949       2     59  Directing"
      ]
     },
     "execution_count": 10,
     "metadata": {},
     "output_type": "execute_result"
    }
   ],
   "source": [
    "import pandas as pd \n",
    "Directors_info = pd.read_sql('Select * from directors where name = \"James Cameron\" or name =\"Luc Besson\" or name =\"John Woo\"', mycon)\n",
    "Directors_info"
   ]
  },
  {
   "cell_type": "markdown",
   "metadata": {
    "id": "MEj00t4X4-Z9"
   },
   "source": [
    "#### **Question 5:** Find all directors with name starting with Steven.\n"
   ]
  },
  {
   "cell_type": "code",
   "execution_count": 13,
   "metadata": {
    "id": "WbBRrw0oHaTz"
   },
   "outputs": [
    {
     "data": {
      "text/html": [
       "<div>\n",
       "<style scoped>\n",
       "    .dataframe tbody tr th:only-of-type {\n",
       "        vertical-align: middle;\n",
       "    }\n",
       "\n",
       "    .dataframe tbody tr th {\n",
       "        vertical-align: top;\n",
       "    }\n",
       "\n",
       "    .dataframe thead th {\n",
       "        text-align: right;\n",
       "    }\n",
       "</style>\n",
       "<table border=\"1\" class=\"dataframe\">\n",
       "  <thead>\n",
       "    <tr style=\"text-align: right;\">\n",
       "      <th></th>\n",
       "      <th>name</th>\n",
       "      <th>id</th>\n",
       "      <th>gender</th>\n",
       "      <th>uid</th>\n",
       "      <th>department</th>\n",
       "    </tr>\n",
       "  </thead>\n",
       "  <tbody>\n",
       "    <tr>\n",
       "      <th>0</th>\n",
       "      <td>Steven Spielberg</td>\n",
       "      <td>4799</td>\n",
       "      <td>2</td>\n",
       "      <td>488</td>\n",
       "      <td>Directing</td>\n",
       "    </tr>\n",
       "    <tr>\n",
       "      <th>1</th>\n",
       "      <td>Steven Soderbergh</td>\n",
       "      <td>4909</td>\n",
       "      <td>2</td>\n",
       "      <td>1884</td>\n",
       "      <td>Directing</td>\n",
       "    </tr>\n",
       "    <tr>\n",
       "      <th>2</th>\n",
       "      <td>Steven Brill</td>\n",
       "      <td>5013</td>\n",
       "      <td>2</td>\n",
       "      <td>32593</td>\n",
       "      <td>Directing</td>\n",
       "    </tr>\n",
       "    <tr>\n",
       "      <th>3</th>\n",
       "      <td>Steven Zaillian</td>\n",
       "      <td>5117</td>\n",
       "      <td>2</td>\n",
       "      <td>2260</td>\n",
       "      <td>Directing</td>\n",
       "    </tr>\n",
       "    <tr>\n",
       "      <th>4</th>\n",
       "      <td>Steven Quale</td>\n",
       "      <td>5216</td>\n",
       "      <td>2</td>\n",
       "      <td>93214</td>\n",
       "      <td>Directing</td>\n",
       "    </tr>\n",
       "    <tr>\n",
       "      <th>5</th>\n",
       "      <td>Steven Seagal</td>\n",
       "      <td>5221</td>\n",
       "      <td>2</td>\n",
       "      <td>23880</td>\n",
       "      <td>Directing</td>\n",
       "    </tr>\n",
       "    <tr>\n",
       "      <th>6</th>\n",
       "      <td>Steven E. de Souza</td>\n",
       "      <td>5390</td>\n",
       "      <td>2</td>\n",
       "      <td>1726</td>\n",
       "      <td>Directing</td>\n",
       "    </tr>\n",
       "    <tr>\n",
       "      <th>7</th>\n",
       "      <td>Steven Shainberg</td>\n",
       "      <td>5803</td>\n",
       "      <td>2</td>\n",
       "      <td>67795</td>\n",
       "      <td>Directing</td>\n",
       "    </tr>\n",
       "    <tr>\n",
       "      <th>8</th>\n",
       "      <td>Steven R. Monroe</td>\n",
       "      <td>6713</td>\n",
       "      <td>2</td>\n",
       "      <td>88039</td>\n",
       "      <td>Directing</td>\n",
       "    </tr>\n",
       "  </tbody>\n",
       "</table>\n",
       "</div>"
      ],
      "text/plain": [
       "                 name    id  gender    uid department\n",
       "0    Steven Spielberg  4799       2    488  Directing\n",
       "1   Steven Soderbergh  4909       2   1884  Directing\n",
       "2        Steven Brill  5013       2  32593  Directing\n",
       "3     Steven Zaillian  5117       2   2260  Directing\n",
       "4        Steven Quale  5216       2  93214  Directing\n",
       "5       Steven Seagal  5221       2  23880  Directing\n",
       "6  Steven E. de Souza  5390       2   1726  Directing\n",
       "7    Steven Shainberg  5803       2  67795  Directing\n",
       "8    Steven R. Monroe  6713       2  88039  Directing"
      ]
     },
     "execution_count": 13,
     "metadata": {},
     "output_type": "execute_result"
    }
   ],
   "source": [
    "import pandas as pd \n",
    "Directors_name = pd.read_sql('Select * from directors where name like \"Steven%\"', mycon)\n",
    "Directors_name"
   ]
  },
  {
   "cell_type": "markdown",
   "metadata": {
    "id": "_oTk6SJ24-Z-"
   },
   "source": [
    "#### **Question 6:** Count female directors.\n"
   ]
  },
  {
   "cell_type": "code",
   "execution_count": 11,
   "metadata": {
    "id": "N5Zi-f0zH3zN"
   },
   "outputs": [
    {
     "data": {
      "text/html": [
       "<div>\n",
       "<style scoped>\n",
       "    .dataframe tbody tr th:only-of-type {\n",
       "        vertical-align: middle;\n",
       "    }\n",
       "\n",
       "    .dataframe tbody tr th {\n",
       "        vertical-align: top;\n",
       "    }\n",
       "\n",
       "    .dataframe thead th {\n",
       "        text-align: right;\n",
       "    }\n",
       "</style>\n",
       "<table border=\"1\" class=\"dataframe\">\n",
       "  <thead>\n",
       "    <tr style=\"text-align: right;\">\n",
       "      <th></th>\n",
       "      <th>count(*)</th>\n",
       "    </tr>\n",
       "  </thead>\n",
       "  <tbody>\n",
       "    <tr>\n",
       "      <th>0</th>\n",
       "      <td>625</td>\n",
       "    </tr>\n",
       "  </tbody>\n",
       "</table>\n",
       "</div>"
      ],
      "text/plain": [
       "   count(*)\n",
       "0       625"
      ]
     },
     "execution_count": 11,
     "metadata": {},
     "output_type": "execute_result"
    }
   ],
   "source": [
    "import pandas as pd\n",
    "female_directors = pd.read_sql(\"SELECT count(*) FROM directors where gender = 0 \", mycon)\n",
    "female_directors"
   ]
  },
  {
   "cell_type": "markdown",
   "metadata": {
    "id": "HQNVMkaC4-Z-"
   },
   "source": [
    "#### **Question 7:**  Find the name of the 10th first women directors?\n"
   ]
  },
  {
   "cell_type": "code",
   "execution_count": 12,
   "metadata": {
    "id": "At093LJ1H7-b"
   },
   "outputs": [],
   "source": [
    "import pandas as pd \n",
    "Directors_name1 = pd.read_sql('Select * from directors where gender = \"female\" limit 10', mycon)\n",
    "Directors_name1;"
   ]
  },
  {
   "cell_type": "markdown",
   "metadata": {
    "id": "tN_3wcMf4-Z-"
   },
   "source": [
    "#### **Question 8:** What are the 3 most popular movies?\n"
   ]
  },
  {
   "cell_type": "code",
   "execution_count": 13,
   "metadata": {
    "id": "4qNEUPfVH8Yw"
   },
   "outputs": [
    {
     "data": {
      "text/html": [
       "<div>\n",
       "<style scoped>\n",
       "    .dataframe tbody tr th:only-of-type {\n",
       "        vertical-align: middle;\n",
       "    }\n",
       "\n",
       "    .dataframe tbody tr th {\n",
       "        vertical-align: top;\n",
       "    }\n",
       "\n",
       "    .dataframe thead th {\n",
       "        text-align: right;\n",
       "    }\n",
       "</style>\n",
       "<table border=\"1\" class=\"dataframe\">\n",
       "  <thead>\n",
       "    <tr style=\"text-align: right;\">\n",
       "      <th></th>\n",
       "      <th>id</th>\n",
       "      <th>original_title</th>\n",
       "      <th>budget</th>\n",
       "      <th>popularity</th>\n",
       "      <th>release_date</th>\n",
       "      <th>revenue</th>\n",
       "      <th>title</th>\n",
       "      <th>vote_average</th>\n",
       "      <th>vote_count</th>\n",
       "      <th>overview</th>\n",
       "      <th>tagline</th>\n",
       "      <th>uid</th>\n",
       "      <th>director_id</th>\n",
       "    </tr>\n",
       "  </thead>\n",
       "  <tbody>\n",
       "    <tr>\n",
       "      <th>0</th>\n",
       "      <td>44143</td>\n",
       "      <td>Minions</td>\n",
       "      <td>74000000</td>\n",
       "      <td>875</td>\n",
       "      <td>2015-06-17</td>\n",
       "      <td>1156730962</td>\n",
       "      <td>Minions</td>\n",
       "      <td>6.4</td>\n",
       "      <td>4571</td>\n",
       "      <td>Minions Stuart, Kevin and Bob are recruited by...</td>\n",
       "      <td>Before Gru, they had a history of bad bosses</td>\n",
       "      <td>211672</td>\n",
       "      <td>5045</td>\n",
       "    </tr>\n",
       "    <tr>\n",
       "      <th>1</th>\n",
       "      <td>43692</td>\n",
       "      <td>Interstellar</td>\n",
       "      <td>165000000</td>\n",
       "      <td>724</td>\n",
       "      <td>2014-11-05</td>\n",
       "      <td>675120017</td>\n",
       "      <td>Interstellar</td>\n",
       "      <td>8.1</td>\n",
       "      <td>10867</td>\n",
       "      <td>Interstellar chronicles the adventures of a gr...</td>\n",
       "      <td>Mankind was born on Earth. It was never meant ...</td>\n",
       "      <td>157336</td>\n",
       "      <td>4765</td>\n",
       "    </tr>\n",
       "    <tr>\n",
       "      <th>2</th>\n",
       "      <td>44385</td>\n",
       "      <td>Deadpool</td>\n",
       "      <td>58000000</td>\n",
       "      <td>514</td>\n",
       "      <td>2016-02-09</td>\n",
       "      <td>783112979</td>\n",
       "      <td>Deadpool</td>\n",
       "      <td>7.4</td>\n",
       "      <td>10995</td>\n",
       "      <td>Deadpool tells the origin story of former Spec...</td>\n",
       "      <td>Witness the beginning of a happy ending</td>\n",
       "      <td>293660</td>\n",
       "      <td>5151</td>\n",
       "    </tr>\n",
       "  </tbody>\n",
       "</table>\n",
       "</div>"
      ],
      "text/plain": [
       "      id original_title     budget  popularity release_date     revenue  \\\n",
       "0  44143        Minions   74000000         875   2015-06-17  1156730962   \n",
       "1  43692   Interstellar  165000000         724   2014-11-05   675120017   \n",
       "2  44385       Deadpool   58000000         514   2016-02-09   783112979   \n",
       "\n",
       "          title  vote_average  vote_count  \\\n",
       "0       Minions           6.4        4571   \n",
       "1  Interstellar           8.1       10867   \n",
       "2      Deadpool           7.4       10995   \n",
       "\n",
       "                                            overview  \\\n",
       "0  Minions Stuart, Kevin and Bob are recruited by...   \n",
       "1  Interstellar chronicles the adventures of a gr...   \n",
       "2  Deadpool tells the origin story of former Spec...   \n",
       "\n",
       "                                             tagline     uid  director_id  \n",
       "0       Before Gru, they had a history of bad bosses  211672         5045  \n",
       "1  Mankind was born on Earth. It was never meant ...  157336         4765  \n",
       "2            Witness the beginning of a happy ending  293660         5151  "
      ]
     },
     "execution_count": 13,
     "metadata": {},
     "output_type": "execute_result"
    }
   ],
   "source": [
    "import pandas as pd \n",
    "popular_movies = pd.read_sql('Select * from movies order by popularity desc limit 3', mycon)\n",
    "popular_movies"
   ]
  },
  {
   "cell_type": "code",
   "execution_count": null,
   "metadata": {
    "id": "5RV-nd5wH8Yx"
   },
   "outputs": [],
   "source": []
  },
  {
   "cell_type": "markdown",
   "metadata": {
    "id": "_VhRo5eL4-Z_"
   },
   "source": [
    "#### **Question 9:**  What are the 3 most bankable movies?\n",
    " "
   ]
  },
  {
   "cell_type": "code",
   "execution_count": 17,
   "metadata": {
    "id": "YJ6yyNwPIKXJ"
   },
   "outputs": [
    {
     "data": {
      "text/html": [
       "<div>\n",
       "<style scoped>\n",
       "    .dataframe tbody tr th:only-of-type {\n",
       "        vertical-align: middle;\n",
       "    }\n",
       "\n",
       "    .dataframe tbody tr th {\n",
       "        vertical-align: top;\n",
       "    }\n",
       "\n",
       "    .dataframe thead th {\n",
       "        text-align: right;\n",
       "    }\n",
       "</style>\n",
       "<table border=\"1\" class=\"dataframe\">\n",
       "  <thead>\n",
       "    <tr style=\"text-align: right;\">\n",
       "      <th></th>\n",
       "      <th>id</th>\n",
       "      <th>original_title</th>\n",
       "      <th>budget</th>\n",
       "      <th>popularity</th>\n",
       "      <th>release_date</th>\n",
       "      <th>revenue</th>\n",
       "      <th>title</th>\n",
       "      <th>vote_average</th>\n",
       "      <th>vote_count</th>\n",
       "      <th>overview</th>\n",
       "      <th>tagline</th>\n",
       "      <th>uid</th>\n",
       "      <th>director_id</th>\n",
       "    </tr>\n",
       "  </thead>\n",
       "  <tbody>\n",
       "    <tr>\n",
       "      <th>0</th>\n",
       "      <td>43597</td>\n",
       "      <td>Avatar</td>\n",
       "      <td>237000000</td>\n",
       "      <td>150</td>\n",
       "      <td>2009-12-10</td>\n",
       "      <td>2787965087</td>\n",
       "      <td>Avatar</td>\n",
       "      <td>7.2</td>\n",
       "      <td>11800</td>\n",
       "      <td>In the 22nd century, a paraplegic Marine is di...</td>\n",
       "      <td>Enter the World of Pandora.</td>\n",
       "      <td>19995</td>\n",
       "      <td>4762</td>\n",
       "    </tr>\n",
       "    <tr>\n",
       "      <th>1</th>\n",
       "      <td>43622</td>\n",
       "      <td>Titanic</td>\n",
       "      <td>200000000</td>\n",
       "      <td>100</td>\n",
       "      <td>1997-11-18</td>\n",
       "      <td>1845034188</td>\n",
       "      <td>Titanic</td>\n",
       "      <td>7.5</td>\n",
       "      <td>7562</td>\n",
       "      <td>84 years later, a 101-year-old woman named Ros...</td>\n",
       "      <td>Nothing on Earth could come between them.</td>\n",
       "      <td>597</td>\n",
       "      <td>4762</td>\n",
       "    </tr>\n",
       "    <tr>\n",
       "      <th>2</th>\n",
       "      <td>43613</td>\n",
       "      <td>The Avengers</td>\n",
       "      <td>220000000</td>\n",
       "      <td>144</td>\n",
       "      <td>2012-04-25</td>\n",
       "      <td>1519557910</td>\n",
       "      <td>The Avengers</td>\n",
       "      <td>7.4</td>\n",
       "      <td>11776</td>\n",
       "      <td>When an unexpected enemy emerges and threatens...</td>\n",
       "      <td>Some assembly required.</td>\n",
       "      <td>24428</td>\n",
       "      <td>4769</td>\n",
       "    </tr>\n",
       "  </tbody>\n",
       "</table>\n",
       "</div>"
      ],
      "text/plain": [
       "      id original_title     budget  popularity release_date     revenue  \\\n",
       "0  43597         Avatar  237000000         150   2009-12-10  2787965087   \n",
       "1  43622        Titanic  200000000         100   1997-11-18  1845034188   \n",
       "2  43613   The Avengers  220000000         144   2012-04-25  1519557910   \n",
       "\n",
       "          title  vote_average  vote_count  \\\n",
       "0        Avatar           7.2       11800   \n",
       "1       Titanic           7.5        7562   \n",
       "2  The Avengers           7.4       11776   \n",
       "\n",
       "                                            overview  \\\n",
       "0  In the 22nd century, a paraplegic Marine is di...   \n",
       "1  84 years later, a 101-year-old woman named Ros...   \n",
       "2  When an unexpected enemy emerges and threatens...   \n",
       "\n",
       "                                     tagline    uid  director_id  \n",
       "0                Enter the World of Pandora.  19995         4762  \n",
       "1  Nothing on Earth could come between them.    597         4762  \n",
       "2                    Some assembly required.  24428         4769  "
      ]
     },
     "execution_count": 17,
     "metadata": {},
     "output_type": "execute_result"
    }
   ],
   "source": [
    "import pandas as pd \n",
    "bankable_movies = pd.read_sql('Select * from movies order by revenue desc limit 3', mycon)\n",
    "bankable_movies"
   ]
  },
  {
   "cell_type": "code",
   "execution_count": null,
   "metadata": {
    "id": "qSylKu1aIKXJ"
   },
   "outputs": [],
   "source": []
  },
  {
   "cell_type": "markdown",
   "metadata": {
    "id": "yjph7hOj4-Z_"
   },
   "source": [
    "#### **Question 10:**  What is the most awarded average vote since the January 1st, 2000?\n"
   ]
  },
  {
   "cell_type": "code",
   "execution_count": 14,
   "metadata": {
    "id": "rC4LASHhINFP"
   },
   "outputs": [
    {
     "data": {
      "text/html": [
       "<div>\n",
       "<style scoped>\n",
       "    .dataframe tbody tr th:only-of-type {\n",
       "        vertical-align: middle;\n",
       "    }\n",
       "\n",
       "    .dataframe tbody tr th {\n",
       "        vertical-align: top;\n",
       "    }\n",
       "\n",
       "    .dataframe thead th {\n",
       "        text-align: right;\n",
       "    }\n",
       "</style>\n",
       "<table border=\"1\" class=\"dataframe\">\n",
       "  <thead>\n",
       "    <tr style=\"text-align: right;\">\n",
       "      <th></th>\n",
       "      <th>Max_averge_vote</th>\n",
       "    </tr>\n",
       "  </thead>\n",
       "  <tbody>\n",
       "    <tr>\n",
       "      <th>0</th>\n",
       "      <td>9.5</td>\n",
       "    </tr>\n",
       "  </tbody>\n",
       "</table>\n",
       "</div>"
      ],
      "text/plain": [
       "   Max_averge_vote\n",
       "0              9.5"
      ]
     },
     "execution_count": 14,
     "metadata": {},
     "output_type": "execute_result"
    }
   ],
   "source": [
    "import pandas as pd \n",
    "popular_movies = pd.read_sql(\"SELECT MAX(vote_average) as Max_averge_vote FROM movies WHERE release_date >= '2000-01-01'\"\n",
    ", mycon)\n",
    "popular_movies"
   ]
  },
  {
   "cell_type": "code",
   "execution_count": null,
   "metadata": {
    "id": "WlcrSazhINFP"
   },
   "outputs": [],
   "source": []
  },
  {
   "cell_type": "markdown",
   "metadata": {
    "id": "h6RRWsi04-aA"
   },
   "source": [
    "### JOINS\n",
    "> Inner join\n",
    "> left join\n",
    "> right join\n",
    "> full outer join\n",
    "- #### Explanation\n",
    "\n",
    "> Inner join : - Wherever the data matching between the two tables only thouse records will displayed . (Only matched in both tables)\n",
    "\n",
    "> Left join : - All the data which is present on the left side will displayed, irrespective it having matching entry will displays or if it does not match entry on another table\n",
    "\n",
    "> Right join : - ( vice-versa ) as Left join From right table all records will displayas, irrespective\n",
    "But in left table who are matching are be displayed\n",
    "\n",
    "> full outer join : -  It is a combination of  Inner join , Left join, Right join.\n",
    "> **Full outer join** shows all matching records,\n",
    "- It will displays all matching records as well as It will display non matching records  On left table and right table.\n",
    "- It will show every thing on what tables contains\n",
    "                        \n",
    "                     \n",
    "        \n",
    "**NOTE** \n",
    "- >  Left join display all records in left table\n",
    "- >  Right join display all records in right table\n",
    "- >  Inner join display only matching records from tables\n",
    "\n"
   ]
  },
  {
   "cell_type": "markdown",
   "metadata": {
    "id": "oLgbknrv4-aA"
   },
   "source": [
    "#### **Question 11:**  Which movie(s) were directed by Brenda Chapman?\n"
   ]
  },
  {
   "cell_type": "code",
   "execution_count": 15,
   "metadata": {
    "id": "fVGXfXTOGLsm",
    "scrolled": true
   },
   "outputs": [
    {
     "data": {
      "text/html": [
       "<div>\n",
       "<style scoped>\n",
       "    .dataframe tbody tr th:only-of-type {\n",
       "        vertical-align: middle;\n",
       "    }\n",
       "\n",
       "    .dataframe tbody tr th {\n",
       "        vertical-align: top;\n",
       "    }\n",
       "\n",
       "    .dataframe thead th {\n",
       "        text-align: right;\n",
       "    }\n",
       "</style>\n",
       "<table border=\"1\" class=\"dataframe\">\n",
       "  <thead>\n",
       "    <tr style=\"text-align: right;\">\n",
       "      <th></th>\n",
       "      <th>original_title</th>\n",
       "    </tr>\n",
       "  </thead>\n",
       "  <tbody>\n",
       "    <tr>\n",
       "      <th>0</th>\n",
       "      <td>Brave</td>\n",
       "    </tr>\n",
       "  </tbody>\n",
       "</table>\n",
       "</div>"
      ],
      "text/plain": [
       "  original_title\n",
       "0          Brave"
      ]
     },
     "execution_count": 15,
     "metadata": {},
     "output_type": "execute_result"
    }
   ],
   "source": [
    "#using sql\n",
    "import pandas as pd \n",
    "movies_directors = pd.read_sql('Select original_title  from movies join directors ON movies.director_id = directors.id where directors.name = \"Brenda Chapman\" ', mycon)\n",
    "movies_directors"
   ]
  },
  {
   "cell_type": "markdown",
   "metadata": {
    "id": "hsg0k5PN4-aA"
   },
   "source": [
    "#### **Question 12:** Whose director made the most movies?\n",
    "\n"
   ]
  },
  {
   "cell_type": "code",
   "execution_count": 16,
   "metadata": {
    "id": "hpn6Qqn-GMTE"
   },
   "outputs": [
    {
     "data": {
      "text/html": [
       "<div>\n",
       "<style scoped>\n",
       "    .dataframe tbody tr th:only-of-type {\n",
       "        vertical-align: middle;\n",
       "    }\n",
       "\n",
       "    .dataframe tbody tr th {\n",
       "        vertical-align: top;\n",
       "    }\n",
       "\n",
       "    .dataframe thead th {\n",
       "        text-align: right;\n",
       "    }\n",
       "</style>\n",
       "<table border=\"1\" class=\"dataframe\">\n",
       "  <thead>\n",
       "    <tr style=\"text-align: right;\">\n",
       "      <th></th>\n",
       "      <th>name</th>\n",
       "      <th>COUNT(director_id)</th>\n",
       "    </tr>\n",
       "  </thead>\n",
       "  <tbody>\n",
       "    <tr>\n",
       "      <th>0</th>\n",
       "      <td>Steven Spielberg</td>\n",
       "      <td>27</td>\n",
       "    </tr>\n",
       "  </tbody>\n",
       "</table>\n",
       "</div>"
      ],
      "text/plain": [
       "               name  COUNT(director_id)\n",
       "0  Steven Spielberg                  27"
      ]
     },
     "execution_count": 16,
     "metadata": {},
     "output_type": "execute_result"
    }
   ],
   "source": [
    "import pandas as pd \n",
    "most_movies = pd.read_sql(\"SELECT name, COUNT(director_id) FROM movies JOIN directors ON directors.id = movies.director_id GROUP BY director_id ORDER BY COUNT(director_id) DESC LIMIT 1\", mycon)\n",
    "most_movies\n"
   ]
  },
  {
   "cell_type": "markdown",
   "metadata": {
    "id": "vuTyiDMD4-aB"
   },
   "source": [
    "#### **Question 13:** Whose director is the most bankable?\n"
   ]
  },
  {
   "cell_type": "code",
   "execution_count": 21,
   "metadata": {
    "id": "BNCvoP05GNHX"
   },
   "outputs": [
    {
     "data": {
      "text/html": [
       "<div>\n",
       "<style scoped>\n",
       "    .dataframe tbody tr th:only-of-type {\n",
       "        vertical-align: middle;\n",
       "    }\n",
       "\n",
       "    .dataframe tbody tr th {\n",
       "        vertical-align: top;\n",
       "    }\n",
       "\n",
       "    .dataframe thead th {\n",
       "        text-align: right;\n",
       "    }\n",
       "</style>\n",
       "<table border=\"1\" class=\"dataframe\">\n",
       "  <thead>\n",
       "    <tr style=\"text-align: right;\">\n",
       "      <th></th>\n",
       "      <th>name</th>\n",
       "      <th>SUM(revenue)</th>\n",
       "    </tr>\n",
       "  </thead>\n",
       "  <tbody>\n",
       "    <tr>\n",
       "      <th>0</th>\n",
       "      <td>Steven Spielberg</td>\n",
       "      <td>9147393164</td>\n",
       "    </tr>\n",
       "  </tbody>\n",
       "</table>\n",
       "</div>"
      ],
      "text/plain": [
       "               name  SUM(revenue)\n",
       "0  Steven Spielberg    9147393164"
      ]
     },
     "execution_count": 21,
     "metadata": {},
     "output_type": "execute_result"
    }
   ],
   "source": [
    "import pandas as pd \n",
    "most_bankable = pd.read_sql(  \"SELECT name, SUM(revenue) FROM movies JOIN directors ON directors.id = movies.director_id GROUP BY director_id ORDER BY SUM(revenue) DESC LIMIT 1\", mycon)\n",
    "most_bankable"
   ]
  },
  {
   "cell_type": "markdown",
   "metadata": {
    "id": "B4HEYabH4-aC"
   },
   "source": [
    "# Analysis on IMDB DATA SET"
   ]
  },
  {
   "cell_type": "markdown",
   "metadata": {
    "id": "n5Dr3hie4-aC"
   },
   "source": [
    "### Budget Analysis"
   ]
  },
  {
   "cell_type": "markdown",
   "metadata": {
    "id": "m7WS1Dzz4-aC"
   },
   "source": [
    "**Question** - List out Top 10 highest budget made movies "
   ]
  },
  {
   "cell_type": "code",
   "execution_count": 22,
   "metadata": {
    "id": "tZGtySZrGKua",
    "scrolled": true
   },
   "outputs": [
    {
     "data": {
      "text/html": [
       "<div>\n",
       "<style scoped>\n",
       "    .dataframe tbody tr th:only-of-type {\n",
       "        vertical-align: middle;\n",
       "    }\n",
       "\n",
       "    .dataframe tbody tr th {\n",
       "        vertical-align: top;\n",
       "    }\n",
       "\n",
       "    .dataframe thead th {\n",
       "        text-align: right;\n",
       "    }\n",
       "</style>\n",
       "<table border=\"1\" class=\"dataframe\">\n",
       "  <thead>\n",
       "    <tr style=\"text-align: right;\">\n",
       "      <th></th>\n",
       "      <th>original_title</th>\n",
       "      <th>name</th>\n",
       "      <th>release_date</th>\n",
       "      <th>budget</th>\n",
       "      <th>revenue</th>\n",
       "    </tr>\n",
       "  </thead>\n",
       "  <tbody>\n",
       "    <tr>\n",
       "      <th>0</th>\n",
       "      <td>Pirates of the Caribbean: On Stranger Tides</td>\n",
       "      <td>Rob Marshall</td>\n",
       "      <td>2011-05-14</td>\n",
       "      <td>380000000</td>\n",
       "      <td>1045713802</td>\n",
       "    </tr>\n",
       "    <tr>\n",
       "      <th>1</th>\n",
       "      <td>Pirates of the Caribbean: At World's End</td>\n",
       "      <td>Gore Verbinski</td>\n",
       "      <td>2007-05-19</td>\n",
       "      <td>300000000</td>\n",
       "      <td>961000000</td>\n",
       "    </tr>\n",
       "    <tr>\n",
       "      <th>2</th>\n",
       "      <td>Avengers: Age of Ultron</td>\n",
       "      <td>Joss Whedon</td>\n",
       "      <td>2015-04-22</td>\n",
       "      <td>280000000</td>\n",
       "      <td>1405403694</td>\n",
       "    </tr>\n",
       "    <tr>\n",
       "      <th>3</th>\n",
       "      <td>Superman Returns</td>\n",
       "      <td>Bryan Singer</td>\n",
       "      <td>2006-06-28</td>\n",
       "      <td>270000000</td>\n",
       "      <td>391081192</td>\n",
       "    </tr>\n",
       "    <tr>\n",
       "      <th>4</th>\n",
       "      <td>John Carter</td>\n",
       "      <td>Andrew Stanton</td>\n",
       "      <td>2012-03-07</td>\n",
       "      <td>260000000</td>\n",
       "      <td>284139100</td>\n",
       "    </tr>\n",
       "    <tr>\n",
       "      <th>5</th>\n",
       "      <td>Tangled</td>\n",
       "      <td>Byron Howard</td>\n",
       "      <td>2010-11-24</td>\n",
       "      <td>260000000</td>\n",
       "      <td>591794936</td>\n",
       "    </tr>\n",
       "    <tr>\n",
       "      <th>6</th>\n",
       "      <td>Spider-Man 3</td>\n",
       "      <td>Sam Raimi</td>\n",
       "      <td>2007-05-01</td>\n",
       "      <td>258000000</td>\n",
       "      <td>890871626</td>\n",
       "    </tr>\n",
       "    <tr>\n",
       "      <th>7</th>\n",
       "      <td>The Lone Ranger</td>\n",
       "      <td>Gore Verbinski</td>\n",
       "      <td>2013-07-03</td>\n",
       "      <td>255000000</td>\n",
       "      <td>89289910</td>\n",
       "    </tr>\n",
       "    <tr>\n",
       "      <th>8</th>\n",
       "      <td>The Dark Knight Rises</td>\n",
       "      <td>Christopher Nolan</td>\n",
       "      <td>2012-07-16</td>\n",
       "      <td>250000000</td>\n",
       "      <td>1084939099</td>\n",
       "    </tr>\n",
       "    <tr>\n",
       "      <th>9</th>\n",
       "      <td>Harry Potter and the Half-Blood Prince</td>\n",
       "      <td>David Yates</td>\n",
       "      <td>2009-07-07</td>\n",
       "      <td>250000000</td>\n",
       "      <td>933959197</td>\n",
       "    </tr>\n",
       "  </tbody>\n",
       "</table>\n",
       "</div>"
      ],
      "text/plain": [
       "                                original_title               name  \\\n",
       "0  Pirates of the Caribbean: On Stranger Tides       Rob Marshall   \n",
       "1     Pirates of the Caribbean: At World's End     Gore Verbinski   \n",
       "2                      Avengers: Age of Ultron        Joss Whedon   \n",
       "3                             Superman Returns       Bryan Singer   \n",
       "4                                  John Carter     Andrew Stanton   \n",
       "5                                      Tangled       Byron Howard   \n",
       "6                                 Spider-Man 3          Sam Raimi   \n",
       "7                              The Lone Ranger     Gore Verbinski   \n",
       "8                        The Dark Knight Rises  Christopher Nolan   \n",
       "9       Harry Potter and the Half-Blood Prince        David Yates   \n",
       "\n",
       "  release_date     budget     revenue  \n",
       "0   2011-05-14  380000000  1045713802  \n",
       "1   2007-05-19  300000000   961000000  \n",
       "2   2015-04-22  280000000  1405403694  \n",
       "3   2006-06-28  270000000   391081192  \n",
       "4   2012-03-07  260000000   284139100  \n",
       "5   2010-11-24  260000000   591794936  \n",
       "6   2007-05-01  258000000   890871626  \n",
       "7   2013-07-03  255000000    89289910  \n",
       "8   2012-07-16  250000000  1084939099  \n",
       "9   2009-07-07  250000000   933959197  "
      ]
     },
     "execution_count": 22,
     "metadata": {},
     "output_type": "execute_result"
    }
   ],
   "source": [
    "import pandas as pd \n",
    "movies_popularity = pd.read_sql('SELECT original_title, name, release_date, budget, revenue FROM movies JOIN directors ON movies.director_id = directors.id ORDER BY budget DESC limit 10', mycon)\n",
    "movies_popularity"
   ]
  },
  {
   "cell_type": "code",
   "execution_count": null,
   "metadata": {
    "id": "cK1sGOrdInNk"
   },
   "outputs": [],
   "source": []
  },
  {
   "cell_type": "markdown",
   "metadata": {
    "id": "VFKQ7yhb4-aC"
   },
   "source": [
    "\n",
    "            \n",
    "\n",
    "\n",
    "> ## Note :\n",
    "\n",
    "The mostExpensive Table Contains List Of Movies With Highest Production Costs. \n",
    "\n",
    "For Your Information, Pirates of the Caribbean: On Stranger Tides, Directed By Rob Marshall, Is The Most Production Costs, It's USD 380,000,000."
   ]
  },
  {
   "cell_type": "markdown",
   "metadata": {
    "id": "dhSHR7tM4-aC"
   },
   "source": [
    "### Popularity Analysis"
   ]
  },
  {
   "cell_type": "markdown",
   "metadata": {
    "id": "rIJRXghu4-aD"
   },
   "source": [
    "**Question**- List out Top 10 popularity on movies"
   ]
  },
  {
   "cell_type": "code",
   "execution_count": 23,
   "metadata": {
    "id": "jvjsJp46GJ7R"
   },
   "outputs": [
    {
     "data": {
      "text/html": [
       "<div>\n",
       "<style scoped>\n",
       "    .dataframe tbody tr th:only-of-type {\n",
       "        vertical-align: middle;\n",
       "    }\n",
       "\n",
       "    .dataframe tbody tr th {\n",
       "        vertical-align: top;\n",
       "    }\n",
       "\n",
       "    .dataframe thead th {\n",
       "        text-align: right;\n",
       "    }\n",
       "</style>\n",
       "<table border=\"1\" class=\"dataframe\">\n",
       "  <thead>\n",
       "    <tr style=\"text-align: right;\">\n",
       "      <th></th>\n",
       "      <th>original_title</th>\n",
       "      <th>name</th>\n",
       "      <th>release_date</th>\n",
       "      <th>popularity</th>\n",
       "      <th>revenue</th>\n",
       "    </tr>\n",
       "  </thead>\n",
       "  <tbody>\n",
       "    <tr>\n",
       "      <th>0</th>\n",
       "      <td>Minions</td>\n",
       "      <td>Kyle Balda</td>\n",
       "      <td>2015-06-17</td>\n",
       "      <td>875</td>\n",
       "      <td>1156730962</td>\n",
       "    </tr>\n",
       "    <tr>\n",
       "      <th>1</th>\n",
       "      <td>Interstellar</td>\n",
       "      <td>Christopher Nolan</td>\n",
       "      <td>2014-11-05</td>\n",
       "      <td>724</td>\n",
       "      <td>675120017</td>\n",
       "    </tr>\n",
       "    <tr>\n",
       "      <th>2</th>\n",
       "      <td>Deadpool</td>\n",
       "      <td>Tim Miller</td>\n",
       "      <td>2016-02-09</td>\n",
       "      <td>514</td>\n",
       "      <td>783112979</td>\n",
       "    </tr>\n",
       "    <tr>\n",
       "      <th>3</th>\n",
       "      <td>Guardians of the Galaxy</td>\n",
       "      <td>James Gunn</td>\n",
       "      <td>2014-07-30</td>\n",
       "      <td>481</td>\n",
       "      <td>773328629</td>\n",
       "    </tr>\n",
       "    <tr>\n",
       "      <th>4</th>\n",
       "      <td>Mad Max: Fury Road</td>\n",
       "      <td>George Miller</td>\n",
       "      <td>2015-05-13</td>\n",
       "      <td>434</td>\n",
       "      <td>378858340</td>\n",
       "    </tr>\n",
       "    <tr>\n",
       "      <th>5</th>\n",
       "      <td>Jurassic World</td>\n",
       "      <td>Colin Trevorrow</td>\n",
       "      <td>2015-06-09</td>\n",
       "      <td>418</td>\n",
       "      <td>1513528810</td>\n",
       "    </tr>\n",
       "    <tr>\n",
       "      <th>6</th>\n",
       "      <td>Pirates of the Caribbean: The Curse of the Bla...</td>\n",
       "      <td>Gore Verbinski</td>\n",
       "      <td>2003-07-09</td>\n",
       "      <td>271</td>\n",
       "      <td>655011224</td>\n",
       "    </tr>\n",
       "    <tr>\n",
       "      <th>7</th>\n",
       "      <td>Dawn of the Planet of the Apes</td>\n",
       "      <td>Matt Reeves</td>\n",
       "      <td>2014-06-26</td>\n",
       "      <td>243</td>\n",
       "      <td>710644566</td>\n",
       "    </tr>\n",
       "    <tr>\n",
       "      <th>8</th>\n",
       "      <td>The Hunger Games: Mockingjay - Part 1</td>\n",
       "      <td>Francis Lawrence</td>\n",
       "      <td>2014-11-18</td>\n",
       "      <td>206</td>\n",
       "      <td>752100229</td>\n",
       "    </tr>\n",
       "    <tr>\n",
       "      <th>9</th>\n",
       "      <td>Big Hero 6</td>\n",
       "      <td>Chris Williams</td>\n",
       "      <td>2014-10-24</td>\n",
       "      <td>203</td>\n",
       "      <td>652105443</td>\n",
       "    </tr>\n",
       "  </tbody>\n",
       "</table>\n",
       "</div>"
      ],
      "text/plain": [
       "                                      original_title               name  \\\n",
       "0                                            Minions         Kyle Balda   \n",
       "1                                       Interstellar  Christopher Nolan   \n",
       "2                                           Deadpool         Tim Miller   \n",
       "3                            Guardians of the Galaxy         James Gunn   \n",
       "4                                 Mad Max: Fury Road      George Miller   \n",
       "5                                     Jurassic World    Colin Trevorrow   \n",
       "6  Pirates of the Caribbean: The Curse of the Bla...     Gore Verbinski   \n",
       "7                     Dawn of the Planet of the Apes        Matt Reeves   \n",
       "8              The Hunger Games: Mockingjay - Part 1   Francis Lawrence   \n",
       "9                                         Big Hero 6     Chris Williams   \n",
       "\n",
       "  release_date  popularity     revenue  \n",
       "0   2015-06-17         875  1156730962  \n",
       "1   2014-11-05         724   675120017  \n",
       "2   2016-02-09         514   783112979  \n",
       "3   2014-07-30         481   773328629  \n",
       "4   2015-05-13         434   378858340  \n",
       "5   2015-06-09         418  1513528810  \n",
       "6   2003-07-09         271   655011224  \n",
       "7   2014-06-26         243   710644566  \n",
       "8   2014-11-18         206   752100229  \n",
       "9   2014-10-24         203   652105443  "
      ]
     },
     "execution_count": 23,
     "metadata": {},
     "output_type": "execute_result"
    }
   ],
   "source": [
    "import pandas as pd \n",
    "movies_popularity = pd.read_sql('SELECT original_title, name, release_date, popularity, revenue FROM movies JOIN directors ON movies.director_id = directors.id ORDER BY popularity DESC limit 10', mycon)\n",
    "movies_popularity"
   ]
  },
  {
   "cell_type": "code",
   "execution_count": null,
   "metadata": {
    "id": "gzzhRuJoIxaS"
   },
   "outputs": [],
   "source": []
  },
  {
   "cell_type": "markdown",
   "metadata": {
    "id": "DQmB3mfG4-aD"
   },
   "source": [
    "\n",
    "\n",
    "> ## Note:\n",
    "\n",
    "mostPopular Table Shows 10 Movies With The Highest Ranking By Popularity. \n",
    "\n",
    "Currently, Minions Directed By Kyle Balda Got The First Place With Score 875, Beating Interstellar As The Closest Competitor, Deadpool And The Other Competitors."
   ]
  },
  {
   "cell_type": "markdown",
   "metadata": {
    "id": "fI5lgquP4-aD"
   },
   "source": [
    "### Revenu Analysis"
   ]
  },
  {
   "cell_type": "markdown",
   "metadata": {
    "id": "GODmRpPz4-aD"
   },
   "source": [
    "**Question** - What are the top 10 Revenue  movies  "
   ]
  },
  {
   "cell_type": "code",
   "execution_count": 24,
   "metadata": {
    "id": "cd6au1JlGJBB"
   },
   "outputs": [
    {
     "data": {
      "text/html": [
       "<div>\n",
       "<style scoped>\n",
       "    .dataframe tbody tr th:only-of-type {\n",
       "        vertical-align: middle;\n",
       "    }\n",
       "\n",
       "    .dataframe tbody tr th {\n",
       "        vertical-align: top;\n",
       "    }\n",
       "\n",
       "    .dataframe thead th {\n",
       "        text-align: right;\n",
       "    }\n",
       "</style>\n",
       "<table border=\"1\" class=\"dataframe\">\n",
       "  <thead>\n",
       "    <tr style=\"text-align: right;\">\n",
       "      <th></th>\n",
       "      <th>id</th>\n",
       "      <th>original_title</th>\n",
       "      <th>revenue</th>\n",
       "    </tr>\n",
       "  </thead>\n",
       "  <tbody>\n",
       "    <tr>\n",
       "      <th>0</th>\n",
       "      <td>43597</td>\n",
       "      <td>Avatar</td>\n",
       "      <td>2787965087</td>\n",
       "    </tr>\n",
       "    <tr>\n",
       "      <th>1</th>\n",
       "      <td>43622</td>\n",
       "      <td>Titanic</td>\n",
       "      <td>1845034188</td>\n",
       "    </tr>\n",
       "    <tr>\n",
       "      <th>2</th>\n",
       "      <td>43613</td>\n",
       "      <td>The Avengers</td>\n",
       "      <td>1519557910</td>\n",
       "    </tr>\n",
       "    <tr>\n",
       "      <th>3</th>\n",
       "      <td>43625</td>\n",
       "      <td>Jurassic World</td>\n",
       "      <td>1513528810</td>\n",
       "    </tr>\n",
       "    <tr>\n",
       "      <th>4</th>\n",
       "      <td>43641</td>\n",
       "      <td>Furious 7</td>\n",
       "      <td>1506249360</td>\n",
       "    </tr>\n",
       "    <tr>\n",
       "      <th>5</th>\n",
       "      <td>43604</td>\n",
       "      <td>Avengers: Age of Ultron</td>\n",
       "      <td>1405403694</td>\n",
       "    </tr>\n",
       "    <tr>\n",
       "      <th>6</th>\n",
       "      <td>43721</td>\n",
       "      <td>Frozen</td>\n",
       "      <td>1274219009</td>\n",
       "    </tr>\n",
       "    <tr>\n",
       "      <th>7</th>\n",
       "      <td>43628</td>\n",
       "      <td>Iron Man 3</td>\n",
       "      <td>1215439994</td>\n",
       "    </tr>\n",
       "    <tr>\n",
       "      <th>8</th>\n",
       "      <td>44143</td>\n",
       "      <td>Minions</td>\n",
       "      <td>1156730962</td>\n",
       "    </tr>\n",
       "    <tr>\n",
       "      <th>9</th>\n",
       "      <td>43623</td>\n",
       "      <td>Captain America: Civil War</td>\n",
       "      <td>1153304495</td>\n",
       "    </tr>\n",
       "  </tbody>\n",
       "</table>\n",
       "</div>"
      ],
      "text/plain": [
       "      id              original_title     revenue\n",
       "0  43597                      Avatar  2787965087\n",
       "1  43622                     Titanic  1845034188\n",
       "2  43613                The Avengers  1519557910\n",
       "3  43625              Jurassic World  1513528810\n",
       "4  43641                   Furious 7  1506249360\n",
       "5  43604     Avengers: Age of Ultron  1405403694\n",
       "6  43721                      Frozen  1274219009\n",
       "7  43628                  Iron Man 3  1215439994\n",
       "8  44143                     Minions  1156730962\n",
       "9  43623  Captain America: Civil War  1153304495"
      ]
     },
     "execution_count": 24,
     "metadata": {},
     "output_type": "execute_result"
    }
   ],
   "source": [
    "import pandas as pd \n",
    "movies_revenue = pd.read_sql('Select id,original_title,revenue from movies order by revenue desc limit 10', mycon)\n",
    "movies_revenue"
   ]
  },
  {
   "cell_type": "code",
   "execution_count": null,
   "metadata": {
    "id": "71j1atG-I0Ck"
   },
   "outputs": [],
   "source": []
  },
  {
   "cell_type": "markdown",
   "metadata": {
    "id": "_sAc8_3E4-aD"
   },
   "source": [
    "\n",
    "\n",
    "> ## Note :\n",
    "\n",
    "The mostProfit Table Shows The 10 Movies Got The Highest Gross Profit When Compared To The Other Movies.\n",
    "\n",
    "It Turns Out That Avatar Directed By James Cameron Got A Gross Profit USD 2,787,965,087. It's Make Avatar In First Place, Followed By Titanic, The Avengers, Jurassic World, And Others.\n",
    "\n",
    "From The Table, It Can Be Seen That James Cameron Make Two Movies To Fill The First And Second Place On The Rankings.\n",
    "\n"
   ]
  },
  {
   "cell_type": "markdown",
   "metadata": {
    "id": "JfVvbYLY4-aD"
   },
   "source": [
    "**Question** - Display most popular movies with vote_average"
   ]
  },
  {
   "cell_type": "code",
   "execution_count": 17,
   "metadata": {
    "id": "7FXnTwaCGIO5"
   },
   "outputs": [
    {
     "data": {
      "text/html": [
       "<div>\n",
       "<style scoped>\n",
       "    .dataframe tbody tr th:only-of-type {\n",
       "        vertical-align: middle;\n",
       "    }\n",
       "\n",
       "    .dataframe tbody tr th {\n",
       "        vertical-align: top;\n",
       "    }\n",
       "\n",
       "    .dataframe thead th {\n",
       "        text-align: right;\n",
       "    }\n",
       "</style>\n",
       "<table border=\"1\" class=\"dataframe\">\n",
       "  <thead>\n",
       "    <tr style=\"text-align: right;\">\n",
       "      <th></th>\n",
       "      <th>original_title</th>\n",
       "      <th>release_date</th>\n",
       "      <th>budget</th>\n",
       "      <th>revenue</th>\n",
       "      <th>popularity</th>\n",
       "      <th>vote_average</th>\n",
       "    </tr>\n",
       "  </thead>\n",
       "  <tbody>\n",
       "    <tr>\n",
       "      <th>0</th>\n",
       "      <td>Minions</td>\n",
       "      <td>2015-06-17</td>\n",
       "      <td>74000000</td>\n",
       "      <td>1156730962</td>\n",
       "      <td>875</td>\n",
       "      <td>6.4</td>\n",
       "    </tr>\n",
       "    <tr>\n",
       "      <th>1</th>\n",
       "      <td>Interstellar</td>\n",
       "      <td>2014-11-05</td>\n",
       "      <td>165000000</td>\n",
       "      <td>675120017</td>\n",
       "      <td>724</td>\n",
       "      <td>8.1</td>\n",
       "    </tr>\n",
       "    <tr>\n",
       "      <th>2</th>\n",
       "      <td>Deadpool</td>\n",
       "      <td>2016-02-09</td>\n",
       "      <td>58000000</td>\n",
       "      <td>783112979</td>\n",
       "      <td>514</td>\n",
       "      <td>7.4</td>\n",
       "    </tr>\n",
       "    <tr>\n",
       "      <th>3</th>\n",
       "      <td>Guardians of the Galaxy</td>\n",
       "      <td>2014-07-30</td>\n",
       "      <td>170000000</td>\n",
       "      <td>773328629</td>\n",
       "      <td>481</td>\n",
       "      <td>7.9</td>\n",
       "    </tr>\n",
       "    <tr>\n",
       "      <th>4</th>\n",
       "      <td>Mad Max: Fury Road</td>\n",
       "      <td>2015-05-13</td>\n",
       "      <td>150000000</td>\n",
       "      <td>378858340</td>\n",
       "      <td>434</td>\n",
       "      <td>7.2</td>\n",
       "    </tr>\n",
       "  </tbody>\n",
       "</table>\n",
       "</div>"
      ],
      "text/plain": [
       "            original_title release_date     budget     revenue  popularity  \\\n",
       "0                  Minions   2015-06-17   74000000  1156730962         875   \n",
       "1             Interstellar   2014-11-05  165000000   675120017         724   \n",
       "2                 Deadpool   2016-02-09   58000000   783112979         514   \n",
       "3  Guardians of the Galaxy   2014-07-30  170000000   773328629         481   \n",
       "4       Mad Max: Fury Road   2015-05-13  150000000   378858340         434   \n",
       "\n",
       "   vote_average  \n",
       "0           6.4  \n",
       "1           8.1  \n",
       "2           7.4  \n",
       "3           7.9  \n",
       "4           7.2  "
      ]
     },
     "execution_count": 17,
     "metadata": {},
     "output_type": "execute_result"
    }
   ],
   "source": [
    "import pandas as pd \n",
    "movies_revenue = pd.read_sql('Select original_title, release_date, budget, revenue, popularity, vote_average from movies order by popularity desc limit 5', mycon)\n",
    "movies_revenue"
   ]
  },
  {
   "cell_type": "code",
   "execution_count": null,
   "metadata": {
    "id": "nubleRBAI4nI"
   },
   "outputs": [],
   "source": []
  },
  {
   "cell_type": "markdown",
   "metadata": {
    "id": "nhVMlQlD4-aE"
   },
   "source": [
    "\n",
    "\n",
    "> ## Note : \n",
    "\n",
    "From the mostProfit Table, It Can Be Seen That The Movies In The First And Second Rank Is A Movies Directed By James Cameron.\n",
    "\n",
    "In The Table moviesByJamesCameron Shows All Movies Directed By James Cameron."
   ]
  },
  {
   "cell_type": "markdown",
   "metadata": {
    "id": "Jn1t57V84-aE"
   },
   "source": [
    "### Voting Analysis"
   ]
  },
  {
   "cell_type": "markdown",
   "metadata": {
    "id": "L-iO_9la4-aE"
   },
   "source": [
    "**Question** - List out Particular movie for Voting average and votecount "
   ]
  },
  {
   "cell_type": "code",
   "execution_count": 18,
   "metadata": {
    "id": "Ml8ovFRrGHfv"
   },
   "outputs": [
    {
     "data": {
      "text/html": [
       "<div>\n",
       "<style scoped>\n",
       "    .dataframe tbody tr th:only-of-type {\n",
       "        vertical-align: middle;\n",
       "    }\n",
       "\n",
       "    .dataframe tbody tr th {\n",
       "        vertical-align: top;\n",
       "    }\n",
       "\n",
       "    .dataframe thead th {\n",
       "        text-align: right;\n",
       "    }\n",
       "</style>\n",
       "<table border=\"1\" class=\"dataframe\">\n",
       "  <thead>\n",
       "    <tr style=\"text-align: right;\">\n",
       "      <th></th>\n",
       "      <th>original_title</th>\n",
       "      <th>release_date</th>\n",
       "      <th>vote_average</th>\n",
       "      <th>vote_count</th>\n",
       "    </tr>\n",
       "  </thead>\n",
       "  <tbody>\n",
       "    <tr>\n",
       "      <th>0</th>\n",
       "      <td>Stiff Upper Lips</td>\n",
       "      <td>1998-06-12</td>\n",
       "      <td>10.0</td>\n",
       "      <td>1</td>\n",
       "    </tr>\n",
       "    <tr>\n",
       "      <th>1</th>\n",
       "      <td>Dancer, Texas Pop. 81</td>\n",
       "      <td>1998-05-01</td>\n",
       "      <td>10.0</td>\n",
       "      <td>1</td>\n",
       "    </tr>\n",
       "    <tr>\n",
       "      <th>2</th>\n",
       "      <td>Sardaarji</td>\n",
       "      <td>2015-06-26</td>\n",
       "      <td>9.5</td>\n",
       "      <td>2</td>\n",
       "    </tr>\n",
       "    <tr>\n",
       "      <th>3</th>\n",
       "      <td>One Man's Hero</td>\n",
       "      <td>1999-08-02</td>\n",
       "      <td>9.3</td>\n",
       "      <td>2</td>\n",
       "    </tr>\n",
       "    <tr>\n",
       "      <th>4</th>\n",
       "      <td>The Shawshank Redemption</td>\n",
       "      <td>1994-09-23</td>\n",
       "      <td>8.5</td>\n",
       "      <td>8205</td>\n",
       "    </tr>\n",
       "    <tr>\n",
       "      <th>...</th>\n",
       "      <td>...</td>\n",
       "      <td>...</td>\n",
       "      <td>...</td>\n",
       "      <td>...</td>\n",
       "    </tr>\n",
       "    <tr>\n",
       "      <th>4768</th>\n",
       "      <td>The Legend of God's Gun</td>\n",
       "      <td>2007-07-08</td>\n",
       "      <td>0.0</td>\n",
       "      <td>0</td>\n",
       "    </tr>\n",
       "    <tr>\n",
       "      <th>4769</th>\n",
       "      <td>Her Cry: La Llorona Investigation</td>\n",
       "      <td>2013-04-19</td>\n",
       "      <td>0.0</td>\n",
       "      <td>0</td>\n",
       "    </tr>\n",
       "    <tr>\n",
       "      <th>4770</th>\n",
       "      <td>Dutch Kills</td>\n",
       "      <td>2015-10-02</td>\n",
       "      <td>0.0</td>\n",
       "      <td>0</td>\n",
       "    </tr>\n",
       "    <tr>\n",
       "      <th>4771</th>\n",
       "      <td>Stories of Our Lives</td>\n",
       "      <td>2014-09-05</td>\n",
       "      <td>0.0</td>\n",
       "      <td>0</td>\n",
       "    </tr>\n",
       "    <tr>\n",
       "      <th>4772</th>\n",
       "      <td>Sanctuary: Quite a Conundrum</td>\n",
       "      <td>2012-01-20</td>\n",
       "      <td>0.0</td>\n",
       "      <td>0</td>\n",
       "    </tr>\n",
       "  </tbody>\n",
       "</table>\n",
       "<p>4773 rows × 4 columns</p>\n",
       "</div>"
      ],
      "text/plain": [
       "                         original_title release_date  vote_average  vote_count\n",
       "0                      Stiff Upper Lips   1998-06-12          10.0           1\n",
       "1                 Dancer, Texas Pop. 81   1998-05-01          10.0           1\n",
       "2                             Sardaarji   2015-06-26           9.5           2\n",
       "3                        One Man's Hero   1999-08-02           9.3           2\n",
       "4              The Shawshank Redemption   1994-09-23           8.5        8205\n",
       "...                                 ...          ...           ...         ...\n",
       "4768            The Legend of God's Gun   2007-07-08           0.0           0\n",
       "4769  Her Cry: La Llorona Investigation   2013-04-19           0.0           0\n",
       "4770                        Dutch Kills   2015-10-02           0.0           0\n",
       "4771               Stories of Our Lives   2014-09-05           0.0           0\n",
       "4772       Sanctuary: Quite a Conundrum   2012-01-20           0.0           0\n",
       "\n",
       "[4773 rows x 4 columns]"
      ]
     },
     "execution_count": 18,
     "metadata": {},
     "output_type": "execute_result"
    }
   ],
   "source": [
    "import pandas as pd \n",
    "voting = pd.read_sql('Select original_title, release_date, vote_average, vote_count from movies order by vote_average desc', mycon)\n",
    "voting "
   ]
  },
  {
   "cell_type": "code",
   "execution_count": null,
   "metadata": {
    "id": "BwbgHohtI6mW"
   },
   "outputs": [],
   "source": []
  },
  {
   "cell_type": "markdown",
   "metadata": {
    "id": "sRiI9IvD4-aE"
   },
   "source": [
    " \n",
    "\n",
    "> ## Note :\n",
    "\n",
    "BestVote Table Contains The Best Movies By Vote. Stiff Upper Lips, Directed By Gary Sinyor And Dancer, Texas Pop. 81 Directed by the MacCanlies Was Successfully Becomes the Best Movies By Vote With Perfect Score, 10.\n",
    "\n",
    "However, There Are Anomalies. It Turned Out That The Two Movies Were Only Vote By One Person. So, Likely to Affect The Assessment Results.."
   ]
  },
  {
   "cell_type": "markdown",
   "metadata": {
    "id": "ucXT_tyM4-aE"
   },
   "source": [
    "### CORRELATION\n",
    "- **Correlation** is also a statistical technique that determines how the change of one variable related to another variable affects the relationship.\n",
    "-  it defines the degree of relation between two variables. There exist three types of correlations - positive and negative, and zero correlations. \n",
    "\n",
    "\n",
    "\n",
    "> The main intention of Seaborn heatmap is to visualize the correlation matrix of data for feature selection to solve business problems\n",
    "> Python data visualization seaborn library has a powerful function that is called sns.heatmap(). \n",
    "> annot — **annot** when set to True, the correlation values become visible on the colored cells\n",
    "> linewidth- **linewidth** Width of the lines that will divide each cell.\n"
   ]
  },
  {
   "cell_type": "code",
   "execution_count": 27,
   "metadata": {
    "execution": {
     "iopub.execute_input": "2021-05-20T06:36:19.925957Z",
     "iopub.status.busy": "2021-05-20T06:36:19.925580Z",
     "iopub.status.idle": "2021-05-20T06:36:20.259321Z",
     "shell.execute_reply": "2021-05-20T06:36:20.257970Z",
     "shell.execute_reply.started": "2021-05-20T06:36:19.925927Z"
    },
    "id": "nRpp5Q0A4-aE",
    "outputId": "a8ac42dc-5b2b-4bf8-f24f-4bdd8ba3f40b"
   },
   "outputs": [
    {
     "data": {
      "image/png": "[encoded data removed]",
      "text/plain": [
       "<Figure size 800x800 with 2 Axes>"
      ]
     },
     "metadata": {},
     "output_type": "display_data"
    }
   ],
   "source": [
    "# plot a heatmap of correlation\n",
    "#corr() is used to create the correlation matrix.\n",
    "#You'll have to make sure that all the elements in the matrix are of numeric type. \n",
    "#If they are not of the numeric type you'll have to add or concat them explicitly.\n",
    "\n",
    "sns.set(rc = {'figure.figsize': (8, 8)})\n",
    "sns.heatmap(movies[['budget', 'popularity', 'revenue', 'vote_average', 'director_id']].corr(), \n",
    "            annot = True, fmt = '.2f', linewidth = 1);"
   ]
  },
  {
   "cell_type": "markdown",
   "metadata": {
    "id": "cvCTPgDo4-aF"
   },
   "source": [
    "\n",
    "\n",
    "> ## Note On correlation :\n",
    "\n",
    "The Heat Map Graph Shows The Effect Between One Variable To The Other Variables. \n",
    "\n",
    "In The Graph, It Is Clear That budget Has The Greatest Impact on revenue with 0.73. \n",
    "\n",
    "Meanwhile, popularity Is Quite Impact On revenue, And director_id Which Means director_name Also Has A Correlation With revenue, Even Though It Is Small. \n",
    "\n",
    "However, vote_average Has A Very Small Correlation With revenue."
   ]
  },
  {
   "cell_type": "markdown",
   "metadata": {
    "id": "HbIEjB_A4-aF"
   },
   "source": [
    "### Directors"
   ]
  },
  {
   "cell_type": "markdown",
   "metadata": {
    "id": "13tDrtk24-aF"
   },
   "source": [
    "**Question**- List out the  director names with number of movies and revenue"
   ]
  },
  {
   "cell_type": "code",
   "execution_count": 33,
   "metadata": {
    "id": "G6BA6E3bJNCo"
   },
   "outputs": [
    {
     "data": {
      "text/html": [
       "<div>\n",
       "<style scoped>\n",
       "    .dataframe tbody tr th:only-of-type {\n",
       "        vertical-align: middle;\n",
       "    }\n",
       "\n",
       "    .dataframe tbody tr th {\n",
       "        vertical-align: top;\n",
       "    }\n",
       "\n",
       "    .dataframe thead th {\n",
       "        text-align: right;\n",
       "    }\n",
       "</style>\n",
       "<table border=\"1\" class=\"dataframe\">\n",
       "  <thead>\n",
       "    <tr style=\"text-align: right;\">\n",
       "      <th></th>\n",
       "      <th>Director_Name</th>\n",
       "      <th>Total_movies</th>\n",
       "      <th>Total_revenue</th>\n",
       "    </tr>\n",
       "  </thead>\n",
       "  <tbody>\n",
       "    <tr>\n",
       "      <th>0</th>\n",
       "      <td>Steven Spielberg</td>\n",
       "      <td>27</td>\n",
       "      <td>9147393164</td>\n",
       "    </tr>\n",
       "    <tr>\n",
       "      <th>1</th>\n",
       "      <td>Peter Jackson</td>\n",
       "      <td>9</td>\n",
       "      <td>6498642820</td>\n",
       "    </tr>\n",
       "    <tr>\n",
       "      <th>2</th>\n",
       "      <td>James Cameron</td>\n",
       "      <td>7</td>\n",
       "      <td>5883569439</td>\n",
       "    </tr>\n",
       "    <tr>\n",
       "      <th>3</th>\n",
       "      <td>Michael Bay</td>\n",
       "      <td>12</td>\n",
       "      <td>5832524638</td>\n",
       "    </tr>\n",
       "    <tr>\n",
       "      <th>4</th>\n",
       "      <td>Christopher Nolan</td>\n",
       "      <td>8</td>\n",
       "      <td>4227483234</td>\n",
       "    </tr>\n",
       "    <tr>\n",
       "      <th>...</th>\n",
       "      <td>...</td>\n",
       "      <td>...</td>\n",
       "      <td>...</td>\n",
       "    </tr>\n",
       "    <tr>\n",
       "      <th>2344</th>\n",
       "      <td>Adam Green</td>\n",
       "      <td>1</td>\n",
       "      <td>0</td>\n",
       "    </tr>\n",
       "    <tr>\n",
       "      <th>2345</th>\n",
       "      <td>Adam Goldberg</td>\n",
       "      <td>1</td>\n",
       "      <td>0</td>\n",
       "    </tr>\n",
       "    <tr>\n",
       "      <th>2346</th>\n",
       "      <td>Adam Carolla</td>\n",
       "      <td>1</td>\n",
       "      <td>0</td>\n",
       "    </tr>\n",
       "    <tr>\n",
       "      <th>2347</th>\n",
       "      <td>Aaron Schneider</td>\n",
       "      <td>1</td>\n",
       "      <td>0</td>\n",
       "    </tr>\n",
       "    <tr>\n",
       "      <th>2348</th>\n",
       "      <td>Aaron Hann</td>\n",
       "      <td>1</td>\n",
       "      <td>0</td>\n",
       "    </tr>\n",
       "  </tbody>\n",
       "</table>\n",
       "<p>2349 rows × 3 columns</p>\n",
       "</div>"
      ],
      "text/plain": [
       "          Director_Name  Total_movies  Total_revenue\n",
       "0      Steven Spielberg            27     9147393164\n",
       "1         Peter Jackson             9     6498642820\n",
       "2         James Cameron             7     5883569439\n",
       "3           Michael Bay            12     5832524638\n",
       "4     Christopher Nolan             8     4227483234\n",
       "...                 ...           ...            ...\n",
       "2344         Adam Green             1              0\n",
       "2345      Adam Goldberg             1              0\n",
       "2346       Adam Carolla             1              0\n",
       "2347    Aaron Schneider             1              0\n",
       "2348         Aaron Hann             1              0\n",
       "\n",
       "[2349 rows x 3 columns]"
      ]
     },
     "execution_count": 33,
     "metadata": {},
     "output_type": "execute_result"
    }
   ],
   "source": [
    "import pandas as pd \n",
    "movies2 = pd.read_sql('SELECT name as Director_Name, COUNT(original_title) as Total_movies, SUM(revenue) as Total_revenue FROM directors JOIN movies ON directors.id = movies.director_id GROUP BY name ORDER BY SUM(revenue) DESC', mycon)\n",
    "movies2"
   ]
  },
  {
   "cell_type": "code",
   "execution_count": null,
   "metadata": {
    "id": "Ac6NcnXCJNCp"
   },
   "outputs": [],
   "source": []
  },
  {
   "cell_type": "markdown",
   "metadata": {
    "id": "KRl11QJR4-aF"
   },
   "source": [
    "\n",
    "\n",
    "> ## Note :\n",
    "\n",
    "The mostProfitableDirector Table Shows The Directors With The Highest Gross Profit. \n",
    "\n",
    "Currently, Steven Spielberg Is The Director With The Most Gross Profit, with USD 9,147,393,164 from his 27 movies. \n",
    "\n",
    "Then, Peter Jackson With USD 6,498,642,820, James Cameron With USD 5,883,569,439, And The Other Directors."
   ]
  },
  {
   "cell_type": "markdown",
   "metadata": {
    "id": "fVsAGWJd4-aF"
   },
   "source": [
    "**Question** - Display all the number of movies for particular director and revenue ."
   ]
  },
  {
   "cell_type": "code",
   "execution_count": 20,
   "metadata": {
    "id": "bx80mB1ZJOoc"
   },
   "outputs": [
    {
     "data": {
      "text/html": [
       "<div>\n",
       "<style scoped>\n",
       "    .dataframe tbody tr th:only-of-type {\n",
       "        vertical-align: middle;\n",
       "    }\n",
       "\n",
       "    .dataframe tbody tr th {\n",
       "        vertical-align: top;\n",
       "    }\n",
       "\n",
       "    .dataframe thead th {\n",
       "        text-align: right;\n",
       "    }\n",
       "</style>\n",
       "<table border=\"1\" class=\"dataframe\">\n",
       "  <thead>\n",
       "    <tr style=\"text-align: right;\">\n",
       "      <th></th>\n",
       "      <th>name</th>\n",
       "      <th>COUNT(original_title)</th>\n",
       "      <th>SUM(revenue)</th>\n",
       "    </tr>\n",
       "  </thead>\n",
       "  <tbody>\n",
       "    <tr>\n",
       "      <th>0</th>\n",
       "      <td>Steven Spielberg</td>\n",
       "      <td>27</td>\n",
       "      <td>9147393164</td>\n",
       "    </tr>\n",
       "    <tr>\n",
       "      <th>1</th>\n",
       "      <td>Woody Allen</td>\n",
       "      <td>21</td>\n",
       "      <td>669101038</td>\n",
       "    </tr>\n",
       "    <tr>\n",
       "      <th>2</th>\n",
       "      <td>Martin Scorsese</td>\n",
       "      <td>20</td>\n",
       "      <td>1956635998</td>\n",
       "    </tr>\n",
       "    <tr>\n",
       "      <th>3</th>\n",
       "      <td>Clint Eastwood</td>\n",
       "      <td>20</td>\n",
       "      <td>2512058888</td>\n",
       "    </tr>\n",
       "    <tr>\n",
       "      <th>4</th>\n",
       "      <td>Spike Lee</td>\n",
       "      <td>16</td>\n",
       "      <td>340618771</td>\n",
       "    </tr>\n",
       "    <tr>\n",
       "      <th>...</th>\n",
       "      <td>...</td>\n",
       "      <td>...</td>\n",
       "      <td>...</td>\n",
       "    </tr>\n",
       "    <tr>\n",
       "      <th>2344</th>\n",
       "      <td>Adam Carolla</td>\n",
       "      <td>1</td>\n",
       "      <td>0</td>\n",
       "    </tr>\n",
       "    <tr>\n",
       "      <th>2345</th>\n",
       "      <td>Adam Brooks</td>\n",
       "      <td>1</td>\n",
       "      <td>55447968</td>\n",
       "    </tr>\n",
       "    <tr>\n",
       "      <th>2346</th>\n",
       "      <td>Abel Ferrara</td>\n",
       "      <td>1</td>\n",
       "      <td>1227324</td>\n",
       "    </tr>\n",
       "    <tr>\n",
       "      <th>2347</th>\n",
       "      <td>Aaron Schneider</td>\n",
       "      <td>1</td>\n",
       "      <td>0</td>\n",
       "    </tr>\n",
       "    <tr>\n",
       "      <th>2348</th>\n",
       "      <td>Aaron Hann</td>\n",
       "      <td>1</td>\n",
       "      <td>0</td>\n",
       "    </tr>\n",
       "  </tbody>\n",
       "</table>\n",
       "<p>2349 rows × 3 columns</p>\n",
       "</div>"
      ],
      "text/plain": [
       "                  name  COUNT(original_title)  SUM(revenue)\n",
       "0     Steven Spielberg                     27    9147393164\n",
       "1          Woody Allen                     21     669101038\n",
       "2      Martin Scorsese                     20    1956635998\n",
       "3       Clint Eastwood                     20    2512058888\n",
       "4            Spike Lee                     16     340618771\n",
       "...                ...                    ...           ...\n",
       "2344      Adam Carolla                      1             0\n",
       "2345       Adam Brooks                      1      55447968\n",
       "2346      Abel Ferrara                      1       1227324\n",
       "2347   Aaron Schneider                      1             0\n",
       "2348        Aaron Hann                      1             0\n",
       "\n",
       "[2349 rows x 3 columns]"
      ]
     },
     "execution_count": 20,
     "metadata": {},
     "output_type": "execute_result"
    }
   ],
   "source": [
    "import pandas as pd \n",
    "movies_popularity = pd.read_sql('SELECT name, COUNT(original_title), SUM(revenue) FROM directors JOIN movies ON directors.id = movies.director_id GROUP BY name ORDER BY COUNT(original_title) DESC', mycon)\n",
    "movies_popularity"
   ]
  },
  {
   "cell_type": "code",
   "execution_count": null,
   "metadata": {
    "id": "Lec1O9FGJOoc"
   },
   "outputs": [],
   "source": []
  },
  {
   "cell_type": "markdown",
   "metadata": {
    "id": "alueKFaJ4-aF"
   },
   "source": [
    "\n",
    "\n",
    "> ### Note :\n",
    "\n",
    "The mostProductiveDirector Table Contains The Name Of The Director And The Number Of Movies It Has Directed By Him. \n",
    "\n",
    "Steven Spielberg Is The Most Productive Director With 27 Movies Titles He Has Directed. Meanwhile, Woody Allen Has Only 21 Movies Titles. \n",
    "\n",
    "Then, Martin Scorsese And Clint Eastwood With 20 Movies Titles.\n"
   ]
  },
  {
   "cell_type": "markdown",
   "metadata": {
    "id": "7yRwmgPU4-aG"
   },
   "source": [
    "**Question**- By doing Director analysis We know Steven Spielberg is the highest revenue, so list the Steven Spielberg movies info"
   ]
  },
  {
   "cell_type": "code",
   "execution_count": 19,
   "metadata": {
    "id": "_Ejh-orVJQsO"
   },
   "outputs": [
    {
     "data": {
      "text/html": [
       "<div>\n",
       "<style scoped>\n",
       "    .dataframe tbody tr th:only-of-type {\n",
       "        vertical-align: middle;\n",
       "    }\n",
       "\n",
       "    .dataframe tbody tr th {\n",
       "        vertical-align: top;\n",
       "    }\n",
       "\n",
       "    .dataframe thead th {\n",
       "        text-align: right;\n",
       "    }\n",
       "</style>\n",
       "<table border=\"1\" class=\"dataframe\">\n",
       "  <thead>\n",
       "    <tr style=\"text-align: right;\">\n",
       "      <th></th>\n",
       "      <th>original_title</th>\n",
       "      <th>release_date</th>\n",
       "      <th>budget</th>\n",
       "      <th>revenue</th>\n",
       "      <th>popularity</th>\n",
       "      <th>vote_average</th>\n",
       "    </tr>\n",
       "  </thead>\n",
       "  <tbody>\n",
       "    <tr>\n",
       "      <th>0</th>\n",
       "      <td>Jurassic Park</td>\n",
       "      <td>1993-06-11</td>\n",
       "      <td>63000000</td>\n",
       "      <td>920100000</td>\n",
       "      <td>40</td>\n",
       "      <td>7.6</td>\n",
       "    </tr>\n",
       "    <tr>\n",
       "      <th>1</th>\n",
       "      <td>E.T. the Extra-Terrestrial</td>\n",
       "      <td>1982-04-03</td>\n",
       "      <td>10500000</td>\n",
       "      <td>792910554</td>\n",
       "      <td>56</td>\n",
       "      <td>7.3</td>\n",
       "    </tr>\n",
       "    <tr>\n",
       "      <th>2</th>\n",
       "      <td>Indiana Jones and the Kingdom of the Crystal S...</td>\n",
       "      <td>2008-05-21</td>\n",
       "      <td>185000000</td>\n",
       "      <td>786636033</td>\n",
       "      <td>75</td>\n",
       "      <td>5.7</td>\n",
       "    </tr>\n",
       "    <tr>\n",
       "      <th>3</th>\n",
       "      <td>War of the Worlds</td>\n",
       "      <td>2005-06-28</td>\n",
       "      <td>132000000</td>\n",
       "      <td>591739379</td>\n",
       "      <td>48</td>\n",
       "      <td>6.2</td>\n",
       "    </tr>\n",
       "    <tr>\n",
       "      <th>4</th>\n",
       "      <td>Saving Private Ryan</td>\n",
       "      <td>1998-07-24</td>\n",
       "      <td>70000000</td>\n",
       "      <td>481840909</td>\n",
       "      <td>76</td>\n",
       "      <td>7.9</td>\n",
       "    </tr>\n",
       "    <tr>\n",
       "      <th>5</th>\n",
       "      <td>Indiana Jones and the Last Crusade</td>\n",
       "      <td>1989-05-24</td>\n",
       "      <td>48000000</td>\n",
       "      <td>474171806</td>\n",
       "      <td>80</td>\n",
       "      <td>7.6</td>\n",
       "    </tr>\n",
       "    <tr>\n",
       "      <th>6</th>\n",
       "      <td>Jaws</td>\n",
       "      <td>1975-06-18</td>\n",
       "      <td>7000000</td>\n",
       "      <td>470654000</td>\n",
       "      <td>50</td>\n",
       "      <td>7.5</td>\n",
       "    </tr>\n",
       "    <tr>\n",
       "      <th>7</th>\n",
       "      <td>Raiders of the Lost Ark</td>\n",
       "      <td>1981-06-12</td>\n",
       "      <td>18000000</td>\n",
       "      <td>389925971</td>\n",
       "      <td>68</td>\n",
       "      <td>7.7</td>\n",
       "    </tr>\n",
       "    <tr>\n",
       "      <th>8</th>\n",
       "      <td>The Adventures of Tintin</td>\n",
       "      <td>2011-10-25</td>\n",
       "      <td>130000000</td>\n",
       "      <td>371940071</td>\n",
       "      <td>89</td>\n",
       "      <td>6.7</td>\n",
       "    </tr>\n",
       "    <tr>\n",
       "      <th>9</th>\n",
       "      <td>Minority Report</td>\n",
       "      <td>2002-06-20</td>\n",
       "      <td>102000000</td>\n",
       "      <td>358372926</td>\n",
       "      <td>65</td>\n",
       "      <td>7.1</td>\n",
       "    </tr>\n",
       "    <tr>\n",
       "      <th>10</th>\n",
       "      <td>Catch Me If You Can</td>\n",
       "      <td>2002-12-25</td>\n",
       "      <td>52000000</td>\n",
       "      <td>352114312</td>\n",
       "      <td>73</td>\n",
       "      <td>7.7</td>\n",
       "    </tr>\n",
       "    <tr>\n",
       "      <th>11</th>\n",
       "      <td>Indiana Jones and the Temple of Doom</td>\n",
       "      <td>1984-05-23</td>\n",
       "      <td>28000000</td>\n",
       "      <td>333000000</td>\n",
       "      <td>66</td>\n",
       "      <td>7.1</td>\n",
       "    </tr>\n",
       "    <tr>\n",
       "      <th>12</th>\n",
       "      <td>Schindler's List</td>\n",
       "      <td>1993-11-29</td>\n",
       "      <td>22000000</td>\n",
       "      <td>321365567</td>\n",
       "      <td>104</td>\n",
       "      <td>8.3</td>\n",
       "    </tr>\n",
       "    <tr>\n",
       "      <th>13</th>\n",
       "      <td>Close Encounters of the Third Kind</td>\n",
       "      <td>1977-11-16</td>\n",
       "      <td>20000000</td>\n",
       "      <td>303788635</td>\n",
       "      <td>52</td>\n",
       "      <td>7.2</td>\n",
       "    </tr>\n",
       "    <tr>\n",
       "      <th>14</th>\n",
       "      <td>Hook</td>\n",
       "      <td>1991-12-11</td>\n",
       "      <td>70000000</td>\n",
       "      <td>300854823</td>\n",
       "      <td>33</td>\n",
       "      <td>6.6</td>\n",
       "    </tr>\n",
       "    <tr>\n",
       "      <th>15</th>\n",
       "      <td>Lincoln</td>\n",
       "      <td>2012-11-09</td>\n",
       "      <td>65000000</td>\n",
       "      <td>275293450</td>\n",
       "      <td>36</td>\n",
       "      <td>6.7</td>\n",
       "    </tr>\n",
       "    <tr>\n",
       "      <th>16</th>\n",
       "      <td>A.I. Artificial Intelligence</td>\n",
       "      <td>2001-06-29</td>\n",
       "      <td>100000000</td>\n",
       "      <td>235926552</td>\n",
       "      <td>34</td>\n",
       "      <td>6.8</td>\n",
       "    </tr>\n",
       "    <tr>\n",
       "      <th>17</th>\n",
       "      <td>The Lost World: Jurassic Park</td>\n",
       "      <td>1997-05-23</td>\n",
       "      <td>73000000</td>\n",
       "      <td>229074524</td>\n",
       "      <td>2</td>\n",
       "      <td>6.2</td>\n",
       "    </tr>\n",
       "    <tr>\n",
       "      <th>18</th>\n",
       "      <td>The Terminal</td>\n",
       "      <td>2004-06-17</td>\n",
       "      <td>60000000</td>\n",
       "      <td>219417255</td>\n",
       "      <td>57</td>\n",
       "      <td>7.0</td>\n",
       "    </tr>\n",
       "    <tr>\n",
       "      <th>19</th>\n",
       "      <td>The BFG</td>\n",
       "      <td>2016-06-01</td>\n",
       "      <td>140000000</td>\n",
       "      <td>183345589</td>\n",
       "      <td>44</td>\n",
       "      <td>6.0</td>\n",
       "    </tr>\n",
       "    <tr>\n",
       "      <th>20</th>\n",
       "      <td>War Horse</td>\n",
       "      <td>2011-12-25</td>\n",
       "      <td>66000000</td>\n",
       "      <td>177584879</td>\n",
       "      <td>29</td>\n",
       "      <td>7.0</td>\n",
       "    </tr>\n",
       "    <tr>\n",
       "      <th>21</th>\n",
       "      <td>Bridge of Spies</td>\n",
       "      <td>2015-10-15</td>\n",
       "      <td>40000000</td>\n",
       "      <td>165478348</td>\n",
       "      <td>48</td>\n",
       "      <td>7.2</td>\n",
       "    </tr>\n",
       "    <tr>\n",
       "      <th>22</th>\n",
       "      <td>The Color Purple</td>\n",
       "      <td>1985-12-18</td>\n",
       "      <td>15000000</td>\n",
       "      <td>146292009</td>\n",
       "      <td>17</td>\n",
       "      <td>7.7</td>\n",
       "    </tr>\n",
       "    <tr>\n",
       "      <th>23</th>\n",
       "      <td>Munich</td>\n",
       "      <td>2005-12-22</td>\n",
       "      <td>70000000</td>\n",
       "      <td>130358911</td>\n",
       "      <td>29</td>\n",
       "      <td>6.9</td>\n",
       "    </tr>\n",
       "    <tr>\n",
       "      <th>24</th>\n",
       "      <td>Amistad</td>\n",
       "      <td>1997-12-03</td>\n",
       "      <td>36000000</td>\n",
       "      <td>74000000</td>\n",
       "      <td>3</td>\n",
       "      <td>6.8</td>\n",
       "    </tr>\n",
       "    <tr>\n",
       "      <th>25</th>\n",
       "      <td>1941</td>\n",
       "      <td>1979-12-13</td>\n",
       "      <td>35000000</td>\n",
       "      <td>31755742</td>\n",
       "      <td>10</td>\n",
       "      <td>5.6</td>\n",
       "    </tr>\n",
       "    <tr>\n",
       "      <th>26</th>\n",
       "      <td>Twilight Zone: The Movie</td>\n",
       "      <td>1983-06-24</td>\n",
       "      <td>10000000</td>\n",
       "      <td>29450919</td>\n",
       "      <td>12</td>\n",
       "      <td>6.2</td>\n",
       "    </tr>\n",
       "  </tbody>\n",
       "</table>\n",
       "</div>"
      ],
      "text/plain": [
       "                                       original_title release_date     budget  \\\n",
       "0                                       Jurassic Park   1993-06-11   63000000   \n",
       "1                          E.T. the Extra-Terrestrial   1982-04-03   10500000   \n",
       "2   Indiana Jones and the Kingdom of the Crystal S...   2008-05-21  185000000   \n",
       "3                                   War of the Worlds   2005-06-28  132000000   \n",
       "4                                 Saving Private Ryan   1998-07-24   70000000   \n",
       "5                  Indiana Jones and the Last Crusade   1989-05-24   48000000   \n",
       "6                                                Jaws   1975-06-18    7000000   \n",
       "7                             Raiders of the Lost Ark   1981-06-12   18000000   \n",
       "8                            The Adventures of Tintin   2011-10-25  130000000   \n",
       "9                                     Minority Report   2002-06-20  102000000   \n",
       "10                                Catch Me If You Can   2002-12-25   52000000   \n",
       "11               Indiana Jones and the Temple of Doom   1984-05-23   28000000   \n",
       "12                                   Schindler's List   1993-11-29   22000000   \n",
       "13                 Close Encounters of the Third Kind   1977-11-16   20000000   \n",
       "14                                               Hook   1991-12-11   70000000   \n",
       "15                                            Lincoln   2012-11-09   65000000   \n",
       "16                       A.I. Artificial Intelligence   2001-06-29  100000000   \n",
       "17                      The Lost World: Jurassic Park   1997-05-23   73000000   \n",
       "18                                       The Terminal   2004-06-17   60000000   \n",
       "19                                            The BFG   2016-06-01  140000000   \n",
       "20                                          War Horse   2011-12-25   66000000   \n",
       "21                                    Bridge of Spies   2015-10-15   40000000   \n",
       "22                                   The Color Purple   1985-12-18   15000000   \n",
       "23                                             Munich   2005-12-22   70000000   \n",
       "24                                            Amistad   1997-12-03   36000000   \n",
       "25                                               1941   1979-12-13   35000000   \n",
       "26                           Twilight Zone: The Movie   1983-06-24   10000000   \n",
       "\n",
       "      revenue  popularity  vote_average  \n",
       "0   920100000          40           7.6  \n",
       "1   792910554          56           7.3  \n",
       "2   786636033          75           5.7  \n",
       "3   591739379          48           6.2  \n",
       "4   481840909          76           7.9  \n",
       "5   474171806          80           7.6  \n",
       "6   470654000          50           7.5  \n",
       "7   389925971          68           7.7  \n",
       "8   371940071          89           6.7  \n",
       "9   358372926          65           7.1  \n",
       "10  352114312          73           7.7  \n",
       "11  333000000          66           7.1  \n",
       "12  321365567         104           8.3  \n",
       "13  303788635          52           7.2  \n",
       "14  300854823          33           6.6  \n",
       "15  275293450          36           6.7  \n",
       "16  235926552          34           6.8  \n",
       "17  229074524           2           6.2  \n",
       "18  219417255          57           7.0  \n",
       "19  183345589          44           6.0  \n",
       "20  177584879          29           7.0  \n",
       "21  165478348          48           7.2  \n",
       "22  146292009          17           7.7  \n",
       "23  130358911          29           6.9  \n",
       "24   74000000           3           6.8  \n",
       "25   31755742          10           5.6  \n",
       "26   29450919          12           6.2  "
      ]
     },
     "execution_count": 19,
     "metadata": {},
     "output_type": "execute_result"
    }
   ],
   "source": [
    "import pandas as pd \n",
    "movies_popularity = pd.read_sql('SELECT original_title, release_date, budget, revenue, popularity, vote_average FROM directors JOIN movies ON directors.id = movies.director_id WHERE name = \"Steven Spielberg\" ORDER BY revenue DESC', mycon)\n",
    "movies_popularity"
   ]
  },
  {
   "cell_type": "code",
   "execution_count": null,
   "metadata": {
    "id": "isYUmJmgJQsP"
   },
   "outputs": [],
   "source": []
  },
  {
   "cell_type": "markdown",
   "metadata": {
    "id": "8ZIWbq2l4-aG"
   },
   "source": [
    "\n",
    "\n",
    "> ## Note : \n",
    "\n",
    "From Two Tables Above, mostProfitableDirector And mostProductiveDirector, It Can Be Seen That Steven Spielberg Is Always In The First Place. \n",
    "\n",
    "It Can Be Understood That Steven Spielberg Has Produced Many And Incredible Movies That Are Shows In The Table MoviesByStevenSpielberg Above.\n",
    "\n"
   ]
  },
  {
   "cell_type": "code",
   "execution_count": null,
   "metadata": {
    "id": "KkAvsRay4-aG"
   },
   "outputs": [],
   "source": []
  }
 ],
 "metadata": {
  "colab": {
   "provenance": []
  },
  "kernelspec": {
   "display_name": "Python 3 (ipykernel)",
   "language": "python",
   "name": "python3"
  },
  "language_info": {
   "codemirror_mode": {
    "name": "ipython",
    "version": 3
   },
   "file_extension": ".py",
   "mimetype": "text/x-python",
   "name": "python",
   "nbconvert_exporter": "python",
   "pygments_lexer": "ipython3",
   "version": "3.10.9"
  }
 },
 "nbformat": 4,
 "nbformat_minor": 1
}
